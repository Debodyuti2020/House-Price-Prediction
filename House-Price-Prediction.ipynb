{
 "cells": [
  {
   "cell_type": "code",
   "execution_count": 1,
   "id": "ab79336d",
   "metadata": {},
   "outputs": [],
   "source": [
    "import numpy as np\n",
    "import pandas as pd\n",
    "import math"
   ]
  },
  {
   "cell_type": "code",
   "execution_count": 2,
   "id": "f8850ecc",
   "metadata": {},
   "outputs": [],
   "source": [
    "data = pd.read_csv(\"Bengaluru_House_Data.csv\")"
   ]
  },
  {
   "cell_type": "code",
   "execution_count": 3,
   "id": "64ed1960",
   "metadata": {
    "scrolled": true
   },
   "outputs": [
    {
     "data": {
      "text/html": [
       "<div>\n",
       "<style scoped>\n",
       "    .dataframe tbody tr th:only-of-type {\n",
       "        vertical-align: middle;\n",
       "    }\n",
       "\n",
       "    .dataframe tbody tr th {\n",
       "        vertical-align: top;\n",
       "    }\n",
       "\n",
       "    .dataframe thead th {\n",
       "        text-align: right;\n",
       "    }\n",
       "</style>\n",
       "<table border=\"1\" class=\"dataframe\">\n",
       "  <thead>\n",
       "    <tr style=\"text-align: right;\">\n",
       "      <th></th>\n",
       "      <th>area_type</th>\n",
       "      <th>availability</th>\n",
       "      <th>location</th>\n",
       "      <th>size</th>\n",
       "      <th>society</th>\n",
       "      <th>total_sqft</th>\n",
       "      <th>bath</th>\n",
       "      <th>balcony</th>\n",
       "      <th>price</th>\n",
       "    </tr>\n",
       "  </thead>\n",
       "  <tbody>\n",
       "    <tr>\n",
       "      <th>0</th>\n",
       "      <td>Super built-up  Area</td>\n",
       "      <td>19-Dec</td>\n",
       "      <td>Electronic City Phase II</td>\n",
       "      <td>2 BHK</td>\n",
       "      <td>Coomee</td>\n",
       "      <td>1056</td>\n",
       "      <td>2.0</td>\n",
       "      <td>1.0</td>\n",
       "      <td>39.07</td>\n",
       "    </tr>\n",
       "    <tr>\n",
       "      <th>1</th>\n",
       "      <td>Plot  Area</td>\n",
       "      <td>Ready To Move</td>\n",
       "      <td>Chikka Tirupathi</td>\n",
       "      <td>4 Bedroom</td>\n",
       "      <td>Theanmp</td>\n",
       "      <td>2600</td>\n",
       "      <td>5.0</td>\n",
       "      <td>3.0</td>\n",
       "      <td>120.00</td>\n",
       "    </tr>\n",
       "    <tr>\n",
       "      <th>2</th>\n",
       "      <td>Built-up  Area</td>\n",
       "      <td>Ready To Move</td>\n",
       "      <td>Uttarahalli</td>\n",
       "      <td>3 BHK</td>\n",
       "      <td>NaN</td>\n",
       "      <td>1440</td>\n",
       "      <td>2.0</td>\n",
       "      <td>3.0</td>\n",
       "      <td>62.00</td>\n",
       "    </tr>\n",
       "    <tr>\n",
       "      <th>3</th>\n",
       "      <td>Super built-up  Area</td>\n",
       "      <td>Ready To Move</td>\n",
       "      <td>Lingadheeranahalli</td>\n",
       "      <td>3 BHK</td>\n",
       "      <td>Soiewre</td>\n",
       "      <td>1521</td>\n",
       "      <td>3.0</td>\n",
       "      <td>1.0</td>\n",
       "      <td>95.00</td>\n",
       "    </tr>\n",
       "    <tr>\n",
       "      <th>4</th>\n",
       "      <td>Super built-up  Area</td>\n",
       "      <td>Ready To Move</td>\n",
       "      <td>Kothanur</td>\n",
       "      <td>2 BHK</td>\n",
       "      <td>NaN</td>\n",
       "      <td>1200</td>\n",
       "      <td>2.0</td>\n",
       "      <td>1.0</td>\n",
       "      <td>51.00</td>\n",
       "    </tr>\n",
       "  </tbody>\n",
       "</table>\n",
       "</div>"
      ],
      "text/plain": [
       "              area_type   availability                  location       size  \\\n",
       "0  Super built-up  Area         19-Dec  Electronic City Phase II      2 BHK   \n",
       "1            Plot  Area  Ready To Move          Chikka Tirupathi  4 Bedroom   \n",
       "2        Built-up  Area  Ready To Move               Uttarahalli      3 BHK   \n",
       "3  Super built-up  Area  Ready To Move        Lingadheeranahalli      3 BHK   \n",
       "4  Super built-up  Area  Ready To Move                  Kothanur      2 BHK   \n",
       "\n",
       "   society total_sqft  bath  balcony   price  \n",
       "0  Coomee        1056   2.0      1.0   39.07  \n",
       "1  Theanmp       2600   5.0      3.0  120.00  \n",
       "2      NaN       1440   2.0      3.0   62.00  \n",
       "3  Soiewre       1521   3.0      1.0   95.00  \n",
       "4      NaN       1200   2.0      1.0   51.00  "
      ]
     },
     "execution_count": 3,
     "metadata": {},
     "output_type": "execute_result"
    }
   ],
   "source": [
    "data.head()"
   ]
  },
  {
   "cell_type": "code",
   "execution_count": 4,
   "id": "48222498",
   "metadata": {},
   "outputs": [
    {
     "data": {
      "text/plain": [
       "(13320, 9)"
      ]
     },
     "execution_count": 4,
     "metadata": {},
     "output_type": "execute_result"
    }
   ],
   "source": [
    "data.shape"
   ]
  },
  {
   "cell_type": "code",
   "execution_count": 5,
   "id": "fe856ce2",
   "metadata": {},
   "outputs": [],
   "source": [
    "pd.set_option('display.float_format', lambda x: '%.3f'%x)"
   ]
  },
  {
   "cell_type": "code",
   "execution_count": 6,
   "id": "8af852d0",
   "metadata": {},
   "outputs": [
    {
     "data": {
      "text/plain": [
       "area_type          0\n",
       "availability       0\n",
       "location           1\n",
       "size              16\n",
       "society         5502\n",
       "total_sqft         0\n",
       "bath              73\n",
       "balcony          609\n",
       "price              0\n",
       "dtype: int64"
      ]
     },
     "execution_count": 6,
     "metadata": {},
     "output_type": "execute_result"
    }
   ],
   "source": [
    "data.isna().sum()"
   ]
  },
  {
   "cell_type": "code",
   "execution_count": 7,
   "id": "0ff8faeb",
   "metadata": {},
   "outputs": [
    {
     "name": "stdout",
     "output_type": "stream",
     "text": [
      "<class 'pandas.core.frame.DataFrame'>\n",
      "RangeIndex: 13320 entries, 0 to 13319\n",
      "Data columns (total 9 columns):\n",
      " #   Column        Non-Null Count  Dtype  \n",
      "---  ------        --------------  -----  \n",
      " 0   area_type     13320 non-null  object \n",
      " 1   availability  13320 non-null  object \n",
      " 2   location      13319 non-null  object \n",
      " 3   size          13304 non-null  object \n",
      " 4   society       7818 non-null   object \n",
      " 5   total_sqft    13320 non-null  object \n",
      " 6   bath          13247 non-null  float64\n",
      " 7   balcony       12711 non-null  float64\n",
      " 8   price         13320 non-null  float64\n",
      "dtypes: float64(3), object(6)\n",
      "memory usage: 936.7+ KB\n"
     ]
    }
   ],
   "source": [
    "data.info()"
   ]
  },
  {
   "cell_type": "code",
   "execution_count": 8,
   "id": "d6a038c3",
   "metadata": {},
   "outputs": [
    {
     "name": "stdout",
     "output_type": "stream",
     "text": [
      "Super built-up  Area    8790\n",
      "Built-up  Area          2418\n",
      "Plot  Area              2025\n",
      "Carpet  Area              87\n",
      "Name: area_type, dtype: int64\n",
      "********************\n",
      "Ready To Move    10581\n",
      "18-Dec             307\n",
      "18-May             295\n",
      "18-Apr             271\n",
      "18-Aug             200\n",
      "                 ...  \n",
      "15-Aug               1\n",
      "17-Jan               1\n",
      "16-Nov               1\n",
      "16-Jan               1\n",
      "14-Jul               1\n",
      "Name: availability, Length: 81, dtype: int64\n",
      "********************\n",
      "Whitefield                        540\n",
      "Sarjapur  Road                    399\n",
      "Electronic City                   302\n",
      "Kanakpura Road                    273\n",
      "Thanisandra                       234\n",
      "                                 ... \n",
      "Bapuji Layout                       1\n",
      "1st Stage Radha Krishna Layout      1\n",
      "BEML Layout 5th stage               1\n",
      "singapura paradise                  1\n",
      "Abshot Layout                       1\n",
      "Name: location, Length: 1305, dtype: int64\n",
      "********************\n",
      "2 BHK         5199\n",
      "3 BHK         4310\n",
      "4 Bedroom      826\n",
      "4 BHK          591\n",
      "3 Bedroom      547\n",
      "1 BHK          538\n",
      "2 Bedroom      329\n",
      "5 Bedroom      297\n",
      "6 Bedroom      191\n",
      "1 Bedroom      105\n",
      "8 Bedroom       84\n",
      "7 Bedroom       83\n",
      "5 BHK           59\n",
      "9 Bedroom       46\n",
      "6 BHK           30\n",
      "7 BHK           17\n",
      "1 RK            13\n",
      "10 Bedroom      12\n",
      "9 BHK            8\n",
      "8 BHK            5\n",
      "11 BHK           2\n",
      "11 Bedroom       2\n",
      "10 BHK           2\n",
      "14 BHK           1\n",
      "13 BHK           1\n",
      "12 Bedroom       1\n",
      "27 BHK           1\n",
      "43 Bedroom       1\n",
      "16 BHK           1\n",
      "19 BHK           1\n",
      "18 Bedroom       1\n",
      "Name: size, dtype: int64\n",
      "********************\n",
      "GrrvaGr    80\n",
      "PrarePa    76\n",
      "Sryalan    59\n",
      "Prtates    59\n",
      "GMown E    56\n",
      "           ..\n",
      "Amionce     1\n",
      "JaghtDe     1\n",
      "Jauraht     1\n",
      "Brity U     1\n",
      "RSntsAp     1\n",
      "Name: society, Length: 2688, dtype: int64\n",
      "********************\n",
      "1200    843\n",
      "1100    221\n",
      "1500    205\n",
      "2400    196\n",
      "600     180\n",
      "       ... \n",
      "3580      1\n",
      "2461      1\n",
      "1437      1\n",
      "2155      1\n",
      "4689      1\n",
      "Name: total_sqft, Length: 2117, dtype: int64\n",
      "********************\n",
      "2.000     6908\n",
      "3.000     3286\n",
      "4.000     1226\n",
      "1.000      788\n",
      "5.000      524\n",
      "6.000      273\n",
      "7.000      102\n",
      "8.000       64\n",
      "9.000       43\n",
      "10.000      13\n",
      "12.000       7\n",
      "13.000       3\n",
      "11.000       3\n",
      "16.000       2\n",
      "27.000       1\n",
      "40.000       1\n",
      "15.000       1\n",
      "14.000       1\n",
      "18.000       1\n",
      "Name: bath, dtype: int64\n",
      "********************\n",
      "2.000    5113\n",
      "1.000    4897\n",
      "3.000    1672\n",
      "0.000    1029\n",
      "Name: balcony, dtype: int64\n",
      "********************\n",
      "75.000     310\n",
      "65.000     302\n",
      "55.000     275\n",
      "60.000     270\n",
      "45.000     240\n",
      "          ... \n",
      "351.000      1\n",
      "54.100       1\n",
      "80.640       1\n",
      "32.730       1\n",
      "488.000      1\n",
      "Name: price, Length: 1994, dtype: int64\n",
      "********************\n"
     ]
    }
   ],
   "source": [
    "for column in data.columns:\n",
    "    print(data[column].value_counts())\n",
    "    print(\"*\"*20)"
   ]
  },
  {
   "cell_type": "markdown",
   "id": "0ce18ec9",
   "metadata": {},
   "source": [
    "# Data Prepreocessing"
   ]
  },
  {
   "cell_type": "code",
   "execution_count": 9,
   "id": "45612db1",
   "metadata": {},
   "outputs": [
    {
     "data": {
      "text/plain": [
       "area_type          0\n",
       "availability       0\n",
       "location           1\n",
       "size              16\n",
       "society         5502\n",
       "total_sqft         0\n",
       "bath              73\n",
       "balcony          609\n",
       "price              0\n",
       "dtype: int64"
      ]
     },
     "execution_count": 9,
     "metadata": {},
     "output_type": "execute_result"
    }
   ],
   "source": [
    "data.isna().sum()"
   ]
  },
  {
   "cell_type": "markdown",
   "id": "631120bc",
   "metadata": {},
   "source": [
    "### Dropping unnecessary columns"
   ]
  },
  {
   "cell_type": "code",
   "execution_count": 10,
   "id": "333108f5",
   "metadata": {},
   "outputs": [],
   "source": [
    "data.drop(columns=['area_type','availability','society','balcony'],inplace=True)"
   ]
  },
  {
   "cell_type": "code",
   "execution_count": 11,
   "id": "e1029dbb",
   "metadata": {},
   "outputs": [
    {
     "data": {
      "text/html": [
       "<div>\n",
       "<style scoped>\n",
       "    .dataframe tbody tr th:only-of-type {\n",
       "        vertical-align: middle;\n",
       "    }\n",
       "\n",
       "    .dataframe tbody tr th {\n",
       "        vertical-align: top;\n",
       "    }\n",
       "\n",
       "    .dataframe thead th {\n",
       "        text-align: right;\n",
       "    }\n",
       "</style>\n",
       "<table border=\"1\" class=\"dataframe\">\n",
       "  <thead>\n",
       "    <tr style=\"text-align: right;\">\n",
       "      <th></th>\n",
       "      <th>location</th>\n",
       "      <th>size</th>\n",
       "      <th>total_sqft</th>\n",
       "      <th>bath</th>\n",
       "      <th>price</th>\n",
       "    </tr>\n",
       "  </thead>\n",
       "  <tbody>\n",
       "    <tr>\n",
       "      <th>0</th>\n",
       "      <td>Electronic City Phase II</td>\n",
       "      <td>2 BHK</td>\n",
       "      <td>1056</td>\n",
       "      <td>2.000</td>\n",
       "      <td>39.070</td>\n",
       "    </tr>\n",
       "    <tr>\n",
       "      <th>1</th>\n",
       "      <td>Chikka Tirupathi</td>\n",
       "      <td>4 Bedroom</td>\n",
       "      <td>2600</td>\n",
       "      <td>5.000</td>\n",
       "      <td>120.000</td>\n",
       "    </tr>\n",
       "    <tr>\n",
       "      <th>2</th>\n",
       "      <td>Uttarahalli</td>\n",
       "      <td>3 BHK</td>\n",
       "      <td>1440</td>\n",
       "      <td>2.000</td>\n",
       "      <td>62.000</td>\n",
       "    </tr>\n",
       "    <tr>\n",
       "      <th>3</th>\n",
       "      <td>Lingadheeranahalli</td>\n",
       "      <td>3 BHK</td>\n",
       "      <td>1521</td>\n",
       "      <td>3.000</td>\n",
       "      <td>95.000</td>\n",
       "    </tr>\n",
       "    <tr>\n",
       "      <th>4</th>\n",
       "      <td>Kothanur</td>\n",
       "      <td>2 BHK</td>\n",
       "      <td>1200</td>\n",
       "      <td>2.000</td>\n",
       "      <td>51.000</td>\n",
       "    </tr>\n",
       "  </tbody>\n",
       "</table>\n",
       "</div>"
      ],
      "text/plain": [
       "                   location       size total_sqft  bath   price\n",
       "0  Electronic City Phase II      2 BHK       1056 2.000  39.070\n",
       "1          Chikka Tirupathi  4 Bedroom       2600 5.000 120.000\n",
       "2               Uttarahalli      3 BHK       1440 2.000  62.000\n",
       "3        Lingadheeranahalli      3 BHK       1521 3.000  95.000\n",
       "4                  Kothanur      2 BHK       1200 2.000  51.000"
      ]
     },
     "execution_count": 11,
     "metadata": {},
     "output_type": "execute_result"
    }
   ],
   "source": [
    "data.head()"
   ]
  },
  {
   "cell_type": "code",
   "execution_count": 12,
   "id": "bfd803a6",
   "metadata": {},
   "outputs": [
    {
     "data": {
      "text/html": [
       "<div>\n",
       "<style scoped>\n",
       "    .dataframe tbody tr th:only-of-type {\n",
       "        vertical-align: middle;\n",
       "    }\n",
       "\n",
       "    .dataframe tbody tr th {\n",
       "        vertical-align: top;\n",
       "    }\n",
       "\n",
       "    .dataframe thead th {\n",
       "        text-align: right;\n",
       "    }\n",
       "</style>\n",
       "<table border=\"1\" class=\"dataframe\">\n",
       "  <thead>\n",
       "    <tr style=\"text-align: right;\">\n",
       "      <th></th>\n",
       "      <th>bath</th>\n",
       "      <th>price</th>\n",
       "    </tr>\n",
       "  </thead>\n",
       "  <tbody>\n",
       "    <tr>\n",
       "      <th>count</th>\n",
       "      <td>13247.000</td>\n",
       "      <td>13320.000</td>\n",
       "    </tr>\n",
       "    <tr>\n",
       "      <th>mean</th>\n",
       "      <td>2.693</td>\n",
       "      <td>112.566</td>\n",
       "    </tr>\n",
       "    <tr>\n",
       "      <th>std</th>\n",
       "      <td>1.341</td>\n",
       "      <td>148.972</td>\n",
       "    </tr>\n",
       "    <tr>\n",
       "      <th>min</th>\n",
       "      <td>1.000</td>\n",
       "      <td>8.000</td>\n",
       "    </tr>\n",
       "    <tr>\n",
       "      <th>25%</th>\n",
       "      <td>2.000</td>\n",
       "      <td>50.000</td>\n",
       "    </tr>\n",
       "    <tr>\n",
       "      <th>50%</th>\n",
       "      <td>2.000</td>\n",
       "      <td>72.000</td>\n",
       "    </tr>\n",
       "    <tr>\n",
       "      <th>75%</th>\n",
       "      <td>3.000</td>\n",
       "      <td>120.000</td>\n",
       "    </tr>\n",
       "    <tr>\n",
       "      <th>max</th>\n",
       "      <td>40.000</td>\n",
       "      <td>3600.000</td>\n",
       "    </tr>\n",
       "  </tbody>\n",
       "</table>\n",
       "</div>"
      ],
      "text/plain": [
       "           bath     price\n",
       "count 13247.000 13320.000\n",
       "mean      2.693   112.566\n",
       "std       1.341   148.972\n",
       "min       1.000     8.000\n",
       "25%       2.000    50.000\n",
       "50%       2.000    72.000\n",
       "75%       3.000   120.000\n",
       "max      40.000  3600.000"
      ]
     },
     "execution_count": 12,
     "metadata": {},
     "output_type": "execute_result"
    }
   ],
   "source": [
    "data.describe()"
   ]
  },
  {
   "cell_type": "code",
   "execution_count": 13,
   "id": "0db4ad17",
   "metadata": {},
   "outputs": [
    {
     "name": "stdout",
     "output_type": "stream",
     "text": [
      "<class 'pandas.core.frame.DataFrame'>\n",
      "RangeIndex: 13320 entries, 0 to 13319\n",
      "Data columns (total 5 columns):\n",
      " #   Column      Non-Null Count  Dtype  \n",
      "---  ------      --------------  -----  \n",
      " 0   location    13319 non-null  object \n",
      " 1   size        13304 non-null  object \n",
      " 2   total_sqft  13320 non-null  object \n",
      " 3   bath        13247 non-null  float64\n",
      " 4   price       13320 non-null  float64\n",
      "dtypes: float64(2), object(3)\n",
      "memory usage: 520.4+ KB\n"
     ]
    }
   ],
   "source": [
    "data.info()"
   ]
  },
  {
   "cell_type": "code",
   "execution_count": 14,
   "id": "48d367a2",
   "metadata": {},
   "outputs": [
    {
     "data": {
      "text/plain": [
       "location       1\n",
       "size          16\n",
       "total_sqft     0\n",
       "bath          73\n",
       "price          0\n",
       "dtype: int64"
      ]
     },
     "execution_count": 14,
     "metadata": {},
     "output_type": "execute_result"
    }
   ],
   "source": [
    "data.isna().sum()"
   ]
  },
  {
   "cell_type": "markdown",
   "id": "27dfe0cb",
   "metadata": {},
   "source": [
    "### Filling null values"
   ]
  },
  {
   "cell_type": "code",
   "execution_count": 15,
   "id": "2cb6a1a7",
   "metadata": {},
   "outputs": [
    {
     "data": {
      "text/plain": [
       "Whitefield                        540\n",
       "Sarjapur  Road                    399\n",
       "Electronic City                   302\n",
       "Kanakpura Road                    273\n",
       "Thanisandra                       234\n",
       "                                 ... \n",
       "Bapuji Layout                       1\n",
       "1st Stage Radha Krishna Layout      1\n",
       "BEML Layout 5th stage               1\n",
       "singapura paradise                  1\n",
       "Abshot Layout                       1\n",
       "Name: location, Length: 1305, dtype: int64"
      ]
     },
     "execution_count": 15,
     "metadata": {},
     "output_type": "execute_result"
    }
   ],
   "source": [
    "data['location'].value_counts()"
   ]
  },
  {
   "cell_type": "code",
   "execution_count": 16,
   "id": "0914527a",
   "metadata": {},
   "outputs": [],
   "source": [
    "data['location'] = data['location'].fillna('Sarjapur  Road')"
   ]
  },
  {
   "cell_type": "code",
   "execution_count": 17,
   "id": "b44789cd",
   "metadata": {},
   "outputs": [
    {
     "data": {
      "text/plain": [
       "2 BHK         5199\n",
       "3 BHK         4310\n",
       "4 Bedroom      826\n",
       "4 BHK          591\n",
       "3 Bedroom      547\n",
       "1 BHK          538\n",
       "2 Bedroom      329\n",
       "5 Bedroom      297\n",
       "6 Bedroom      191\n",
       "1 Bedroom      105\n",
       "8 Bedroom       84\n",
       "7 Bedroom       83\n",
       "5 BHK           59\n",
       "9 Bedroom       46\n",
       "6 BHK           30\n",
       "7 BHK           17\n",
       "1 RK            13\n",
       "10 Bedroom      12\n",
       "9 BHK            8\n",
       "8 BHK            5\n",
       "11 BHK           2\n",
       "11 Bedroom       2\n",
       "10 BHK           2\n",
       "14 BHK           1\n",
       "13 BHK           1\n",
       "12 Bedroom       1\n",
       "27 BHK           1\n",
       "43 Bedroom       1\n",
       "16 BHK           1\n",
       "19 BHK           1\n",
       "18 Bedroom       1\n",
       "Name: size, dtype: int64"
      ]
     },
     "execution_count": 17,
     "metadata": {},
     "output_type": "execute_result"
    }
   ],
   "source": [
    "data['size'].value_counts()"
   ]
  },
  {
   "cell_type": "code",
   "execution_count": 18,
   "id": "565551d6",
   "metadata": {},
   "outputs": [],
   "source": [
    "data['size'] = data['size'].fillna('2 BHK')"
   ]
  },
  {
   "cell_type": "code",
   "execution_count": 19,
   "id": "3ee531d5",
   "metadata": {},
   "outputs": [
    {
     "data": {
      "text/plain": [
       "2.000     6908\n",
       "3.000     3286\n",
       "4.000     1226\n",
       "1.000      788\n",
       "5.000      524\n",
       "6.000      273\n",
       "7.000      102\n",
       "8.000       64\n",
       "9.000       43\n",
       "10.000      13\n",
       "12.000       7\n",
       "13.000       3\n",
       "11.000       3\n",
       "16.000       2\n",
       "27.000       1\n",
       "40.000       1\n",
       "15.000       1\n",
       "14.000       1\n",
       "18.000       1\n",
       "Name: bath, dtype: int64"
      ]
     },
     "execution_count": 19,
     "metadata": {},
     "output_type": "execute_result"
    }
   ],
   "source": [
    "data['bath'].value_counts()"
   ]
  },
  {
   "cell_type": "code",
   "execution_count": 20,
   "id": "1be0b569",
   "metadata": {},
   "outputs": [],
   "source": [
    "data['bath'] = data['bath'].fillna(data['bath'].median())"
   ]
  },
  {
   "cell_type": "markdown",
   "id": "4bb5b5ec",
   "metadata": {},
   "source": [
    "---------------------------------------------------------------------------------------------------------------------------"
   ]
  },
  {
   "cell_type": "code",
   "execution_count": 21,
   "id": "881a38e7",
   "metadata": {},
   "outputs": [
    {
     "name": "stdout",
     "output_type": "stream",
     "text": [
      "<class 'pandas.core.frame.DataFrame'>\n",
      "RangeIndex: 13320 entries, 0 to 13319\n",
      "Data columns (total 5 columns):\n",
      " #   Column      Non-Null Count  Dtype  \n",
      "---  ------      --------------  -----  \n",
      " 0   location    13320 non-null  object \n",
      " 1   size        13320 non-null  object \n",
      " 2   total_sqft  13320 non-null  object \n",
      " 3   bath        13320 non-null  float64\n",
      " 4   price       13320 non-null  float64\n",
      "dtypes: float64(2), object(3)\n",
      "memory usage: 520.4+ KB\n"
     ]
    }
   ],
   "source": [
    "data.info()"
   ]
  },
  {
   "cell_type": "code",
   "execution_count": 22,
   "id": "187d459b",
   "metadata": {},
   "outputs": [],
   "source": [
    "data['bhk'] = data['size'].str.split().str.get(0).astype(int)"
   ]
  },
  {
   "cell_type": "code",
   "execution_count": 23,
   "id": "f5b405c2",
   "metadata": {},
   "outputs": [
    {
     "data": {
      "text/html": [
       "<div>\n",
       "<style scoped>\n",
       "    .dataframe tbody tr th:only-of-type {\n",
       "        vertical-align: middle;\n",
       "    }\n",
       "\n",
       "    .dataframe tbody tr th {\n",
       "        vertical-align: top;\n",
       "    }\n",
       "\n",
       "    .dataframe thead th {\n",
       "        text-align: right;\n",
       "    }\n",
       "</style>\n",
       "<table border=\"1\" class=\"dataframe\">\n",
       "  <thead>\n",
       "    <tr style=\"text-align: right;\">\n",
       "      <th></th>\n",
       "      <th>location</th>\n",
       "      <th>size</th>\n",
       "      <th>total_sqft</th>\n",
       "      <th>bath</th>\n",
       "      <th>price</th>\n",
       "      <th>bhk</th>\n",
       "    </tr>\n",
       "  </thead>\n",
       "  <tbody>\n",
       "    <tr>\n",
       "      <th>1718</th>\n",
       "      <td>2Electronic City Phase II</td>\n",
       "      <td>27 BHK</td>\n",
       "      <td>8000</td>\n",
       "      <td>27.000</td>\n",
       "      <td>230.000</td>\n",
       "      <td>27</td>\n",
       "    </tr>\n",
       "    <tr>\n",
       "      <th>4684</th>\n",
       "      <td>Munnekollal</td>\n",
       "      <td>43 Bedroom</td>\n",
       "      <td>2400</td>\n",
       "      <td>40.000</td>\n",
       "      <td>660.000</td>\n",
       "      <td>43</td>\n",
       "    </tr>\n",
       "  </tbody>\n",
       "</table>\n",
       "</div>"
      ],
      "text/plain": [
       "                       location        size total_sqft   bath   price  bhk\n",
       "1718  2Electronic City Phase II      27 BHK       8000 27.000 230.000   27\n",
       "4684                Munnekollal  43 Bedroom       2400 40.000 660.000   43"
      ]
     },
     "execution_count": 23,
     "metadata": {},
     "output_type": "execute_result"
    }
   ],
   "source": [
    "data[data.bhk > 20]"
   ]
  },
  {
   "cell_type": "code",
   "execution_count": 24,
   "id": "db2ea463",
   "metadata": {},
   "outputs": [
    {
     "data": {
      "text/plain": [
       "array(['1056', '2600', '1440', ..., '1133 - 1384', '774', '4689'],\n",
       "      dtype=object)"
      ]
     },
     "execution_count": 24,
     "metadata": {},
     "output_type": "execute_result"
    }
   ],
   "source": [
    "data['total_sqft'].unique()"
   ]
  },
  {
   "cell_type": "code",
   "execution_count": 25,
   "id": "a7ee963f",
   "metadata": {},
   "outputs": [
    {
     "data": {
      "text/html": [
       "<div>\n",
       "<style scoped>\n",
       "    .dataframe tbody tr th:only-of-type {\n",
       "        vertical-align: middle;\n",
       "    }\n",
       "\n",
       "    .dataframe tbody tr th {\n",
       "        vertical-align: top;\n",
       "    }\n",
       "\n",
       "    .dataframe thead th {\n",
       "        text-align: right;\n",
       "    }\n",
       "</style>\n",
       "<table border=\"1\" class=\"dataframe\">\n",
       "  <thead>\n",
       "    <tr style=\"text-align: right;\">\n",
       "      <th></th>\n",
       "      <th>location</th>\n",
       "      <th>size</th>\n",
       "      <th>total_sqft</th>\n",
       "      <th>bath</th>\n",
       "      <th>price</th>\n",
       "      <th>bhk</th>\n",
       "    </tr>\n",
       "  </thead>\n",
       "  <tbody>\n",
       "    <tr>\n",
       "      <th>0</th>\n",
       "      <td>Electronic City Phase II</td>\n",
       "      <td>2 BHK</td>\n",
       "      <td>1056</td>\n",
       "      <td>2.000</td>\n",
       "      <td>39.070</td>\n",
       "      <td>2</td>\n",
       "    </tr>\n",
       "    <tr>\n",
       "      <th>1</th>\n",
       "      <td>Chikka Tirupathi</td>\n",
       "      <td>4 Bedroom</td>\n",
       "      <td>2600</td>\n",
       "      <td>5.000</td>\n",
       "      <td>120.000</td>\n",
       "      <td>4</td>\n",
       "    </tr>\n",
       "    <tr>\n",
       "      <th>2</th>\n",
       "      <td>Uttarahalli</td>\n",
       "      <td>3 BHK</td>\n",
       "      <td>1440</td>\n",
       "      <td>2.000</td>\n",
       "      <td>62.000</td>\n",
       "      <td>3</td>\n",
       "    </tr>\n",
       "    <tr>\n",
       "      <th>3</th>\n",
       "      <td>Lingadheeranahalli</td>\n",
       "      <td>3 BHK</td>\n",
       "      <td>1521</td>\n",
       "      <td>3.000</td>\n",
       "      <td>95.000</td>\n",
       "      <td>3</td>\n",
       "    </tr>\n",
       "    <tr>\n",
       "      <th>4</th>\n",
       "      <td>Kothanur</td>\n",
       "      <td>2 BHK</td>\n",
       "      <td>1200</td>\n",
       "      <td>2.000</td>\n",
       "      <td>51.000</td>\n",
       "      <td>2</td>\n",
       "    </tr>\n",
       "  </tbody>\n",
       "</table>\n",
       "</div>"
      ],
      "text/plain": [
       "                   location       size total_sqft  bath   price  bhk\n",
       "0  Electronic City Phase II      2 BHK       1056 2.000  39.070    2\n",
       "1          Chikka Tirupathi  4 Bedroom       2600 5.000 120.000    4\n",
       "2               Uttarahalli      3 BHK       1440 2.000  62.000    3\n",
       "3        Lingadheeranahalli      3 BHK       1521 3.000  95.000    3\n",
       "4                  Kothanur      2 BHK       1200 2.000  51.000    2"
      ]
     },
     "execution_count": 25,
     "metadata": {},
     "output_type": "execute_result"
    }
   ],
   "source": [
    "data.head()"
   ]
  },
  {
   "cell_type": "code",
   "execution_count": 26,
   "id": "6b0f6a02",
   "metadata": {},
   "outputs": [
    {
     "data": {
      "text/plain": [
       "array(['1056', '2600', '1440', ..., '1133 - 1384', '774', '4689'],\n",
       "      dtype=object)"
      ]
     },
     "execution_count": 26,
     "metadata": {},
     "output_type": "execute_result"
    }
   ],
   "source": [
    "data['total_sqft'].unique()"
   ]
  },
  {
   "cell_type": "code",
   "execution_count": 27,
   "id": "9479ef9d",
   "metadata": {},
   "outputs": [
    {
     "data": {
      "text/plain": [
       "1200    843\n",
       "1100    221\n",
       "1500    205\n",
       "2400    196\n",
       "600     180\n",
       "       ... \n",
       "3580      1\n",
       "2461      1\n",
       "1437      1\n",
       "2155      1\n",
       "4689      1\n",
       "Name: total_sqft, Length: 2117, dtype: int64"
      ]
     },
     "execution_count": 27,
     "metadata": {},
     "output_type": "execute_result"
    }
   ],
   "source": [
    "data['total_sqft'].value_counts()"
   ]
  },
  {
   "cell_type": "code",
   "execution_count": 28,
   "id": "5f9f01af",
   "metadata": {},
   "outputs": [],
   "source": [
    "adi = set(data['total_sqft'])"
   ]
  },
  {
   "cell_type": "code",
   "execution_count": 29,
   "id": "bd1a8969",
   "metadata": {},
   "outputs": [
    {
     "data": {
      "text/plain": [
       "{'2230',\n",
       " '4550',\n",
       " '1962',\n",
       " '1210 - 1477',\n",
       " '1540',\n",
       " '1004 - 1204',\n",
       " '1432',\n",
       " '24',\n",
       " '2238',\n",
       " '2295',\n",
       " '644',\n",
       " '614',\n",
       " '812',\n",
       " '485',\n",
       " '2171',\n",
       " '2384',\n",
       " '1273',\n",
       " '2138',\n",
       " '2800 - 2870',\n",
       " '2028',\n",
       " '1060',\n",
       " '1465',\n",
       " '3675',\n",
       " '1110',\n",
       " '2423',\n",
       " '2563 - 2733',\n",
       " '2663',\n",
       " '1855',\n",
       " '964',\n",
       " '1357',\n",
       " '3293',\n",
       " '3530',\n",
       " '1088',\n",
       " '2204',\n",
       " '1558',\n",
       " '1125 - 1500',\n",
       " '799 - 803',\n",
       " '897',\n",
       " '1438',\n",
       " '1436',\n",
       " '1042 - 1105',\n",
       " '1644',\n",
       " '633 - 666',\n",
       " '451',\n",
       " '927',\n",
       " '1678',\n",
       " '6Acres',\n",
       " '6688',\n",
       " '1180',\n",
       " '10961',\n",
       " '1634',\n",
       " '2383',\n",
       " '1925',\n",
       " '1752.12',\n",
       " '11',\n",
       " '3555',\n",
       " '3293 - 5314',\n",
       " '1529',\n",
       " '1498',\n",
       " '2162.03',\n",
       " '1278',\n",
       " '1144',\n",
       " '947',\n",
       " '1377',\n",
       " '497',\n",
       " '1483',\n",
       " '1408 - 1455',\n",
       " '2140',\n",
       " '765',\n",
       " '774',\n",
       " '1507',\n",
       " '1700',\n",
       " '188.89Sq. Yards',\n",
       " '1234.6',\n",
       " '1010 - 1300',\n",
       " '1326',\n",
       " '1196',\n",
       " '1504',\n",
       " '3758',\n",
       " '3000',\n",
       " '1623',\n",
       " '1916',\n",
       " '833',\n",
       " '4500',\n",
       " '934',\n",
       " '2130',\n",
       " '1167',\n",
       " '866',\n",
       " '984',\n",
       " '1003',\n",
       " '704 - 730',\n",
       " '3463',\n",
       " '1552',\n",
       " '3450 - 3472',\n",
       " '2075',\n",
       " '871',\n",
       " '1532',\n",
       " '1275',\n",
       " '2375',\n",
       " '1980',\n",
       " '2223',\n",
       " '684 - 810',\n",
       " '1245',\n",
       " '726',\n",
       " '1448',\n",
       " '132Sq. Yards',\n",
       " '516',\n",
       " '1559',\n",
       " '2940',\n",
       " '694',\n",
       " '2086',\n",
       " '2010',\n",
       " '524 - 894',\n",
       " '1990',\n",
       " '1302',\n",
       " '2665',\n",
       " '1222',\n",
       " '2030',\n",
       " '930',\n",
       " '2070',\n",
       " '432',\n",
       " '598 - 958',\n",
       " '1469 - 1766',\n",
       " '1262',\n",
       " '2050',\n",
       " '1602',\n",
       " '3044',\n",
       " '1747',\n",
       " '2770',\n",
       " '425',\n",
       " '2395',\n",
       " '3230',\n",
       " '888 - 1290',\n",
       " '2968',\n",
       " '1717',\n",
       " '3290',\n",
       " '4051',\n",
       " '1706',\n",
       " '1732',\n",
       " '1949',\n",
       " '1439',\n",
       " '1934',\n",
       " '1242',\n",
       " '1590',\n",
       " '1894',\n",
       " '60',\n",
       " '1071',\n",
       " '5270',\n",
       " '1323',\n",
       " '2153',\n",
       " '4003',\n",
       " '658',\n",
       " '1783',\n",
       " '3300',\n",
       " '5665.84',\n",
       " '1297',\n",
       " '1810',\n",
       " '2675',\n",
       " '1500',\n",
       " '1030',\n",
       " '1270',\n",
       " '792',\n",
       " '1614',\n",
       " '11338',\n",
       " '703',\n",
       " '1921',\n",
       " '1267',\n",
       " '1886',\n",
       " '3155',\n",
       " '2695',\n",
       " '385 - 440',\n",
       " '2121',\n",
       " '2805 - 3565',\n",
       " '1503',\n",
       " '1407',\n",
       " '2550',\n",
       " '1331',\n",
       " '2087.01',\n",
       " '1303',\n",
       " '2132',\n",
       " '1063',\n",
       " '545',\n",
       " '1728',\n",
       " '1585',\n",
       " '1536',\n",
       " '2113',\n",
       " '4560',\n",
       " '1736',\n",
       " '1531',\n",
       " '1010',\n",
       " '1017',\n",
       " '3297',\n",
       " '596 - 804',\n",
       " '30Acres',\n",
       " '1788',\n",
       " '1330',\n",
       " '1199',\n",
       " '785',\n",
       " '860',\n",
       " '900',\n",
       " '947.55',\n",
       " '2150 - 2225',\n",
       " '1819',\n",
       " '1336',\n",
       " '1261',\n",
       " '1975',\n",
       " '3401',\n",
       " '2266',\n",
       " '1254',\n",
       " '1556',\n",
       " '1984',\n",
       " '2500',\n",
       " '1360 - 1890',\n",
       " '2119',\n",
       " '3356',\n",
       " '607',\n",
       " '3045',\n",
       " '3657',\n",
       " '3160',\n",
       " '3435',\n",
       " '1920',\n",
       " '1549',\n",
       " '1823',\n",
       " '1328',\n",
       " '1413',\n",
       " '1654',\n",
       " '1629',\n",
       " '1277',\n",
       " '766',\n",
       " '1533',\n",
       " '480',\n",
       " '1431',\n",
       " '1718',\n",
       " '4723',\n",
       " '3870',\n",
       " '5.31Acres',\n",
       " '648',\n",
       " '2901',\n",
       " '2842',\n",
       " '2894',\n",
       " '1863',\n",
       " '3080',\n",
       " '580',\n",
       " '1227',\n",
       " '35000',\n",
       " '782',\n",
       " '1455',\n",
       " '1044',\n",
       " '3467.86',\n",
       " '854 - 960',\n",
       " '925',\n",
       " '2721',\n",
       " '3621',\n",
       " '850 - 1093',\n",
       " '1128',\n",
       " '982',\n",
       " '3400',\n",
       " '1312',\n",
       " '888',\n",
       " '1291',\n",
       " '5656',\n",
       " '1229',\n",
       " '475',\n",
       " '1720',\n",
       " '1134',\n",
       " '1667',\n",
       " '2297',\n",
       " '1322',\n",
       " '2415',\n",
       " '1557',\n",
       " '2646',\n",
       " '4304',\n",
       " '1477',\n",
       " '943',\n",
       " '7150',\n",
       " '1040',\n",
       " '3760',\n",
       " '5108',\n",
       " '1265',\n",
       " '908',\n",
       " '3033',\n",
       " '943 - 1220',\n",
       " '2125',\n",
       " '2039',\n",
       " '750',\n",
       " '890',\n",
       " '1137',\n",
       " '3811',\n",
       " '4634',\n",
       " '1246',\n",
       " '2505',\n",
       " '4000 - 5249',\n",
       " '965',\n",
       " '3532',\n",
       " '3489',\n",
       " '1133 - 1384',\n",
       " '981 - 1249',\n",
       " '3092',\n",
       " '670 - 980',\n",
       " '395',\n",
       " '117Sq. Yards',\n",
       " '3190',\n",
       " '1414',\n",
       " '1726',\n",
       " '650',\n",
       " '1190',\n",
       " '1429',\n",
       " '2171.66',\n",
       " '1991',\n",
       " '1428',\n",
       " '615',\n",
       " '940',\n",
       " '4400 - 6640',\n",
       " '1033',\n",
       " '1974',\n",
       " '2185',\n",
       " '2528 - 3188',\n",
       " '1181.7',\n",
       " '1460',\n",
       " '1766',\n",
       " '1066',\n",
       " '1002',\n",
       " '3035',\n",
       " '695',\n",
       " '1737',\n",
       " '645',\n",
       " '1230 - 1290',\n",
       " '500',\n",
       " '1290',\n",
       " '2511',\n",
       " '3131',\n",
       " '987',\n",
       " '667',\n",
       " '2275',\n",
       " '763 - 805',\n",
       " '4300',\n",
       " '488',\n",
       " '3090',\n",
       " '2690',\n",
       " '1885',\n",
       " '1890',\n",
       " '612',\n",
       " '3450',\n",
       " '8000',\n",
       " '2485',\n",
       " '2489',\n",
       " '1689.28',\n",
       " '2710',\n",
       " '1181',\n",
       " '3508',\n",
       " '834',\n",
       " '3606',\n",
       " '1584',\n",
       " '2100 - 5405',\n",
       " '3090 - 5002',\n",
       " '1801',\n",
       " '3250',\n",
       " '2990',\n",
       " '884',\n",
       " '1140',\n",
       " '835',\n",
       " '2317',\n",
       " '1815',\n",
       " '3425',\n",
       " '906',\n",
       " '2820',\n",
       " '1449',\n",
       " '1862',\n",
       " '1354',\n",
       " '1622',\n",
       " '978',\n",
       " '552',\n",
       " '1870',\n",
       " '4303',\n",
       " '1212',\n",
       " '1396',\n",
       " '1730',\n",
       " '1562',\n",
       " '1566',\n",
       " '1892',\n",
       " '418',\n",
       " '3664',\n",
       " '1339',\n",
       " '2456',\n",
       " '986',\n",
       " '1257',\n",
       " '4239',\n",
       " '2280',\n",
       " '4000 - 4450',\n",
       " '1183',\n",
       " '1043',\n",
       " '912',\n",
       " '1828',\n",
       " '5530',\n",
       " '1874',\n",
       " '1494',\n",
       " '4273',\n",
       " '3095',\n",
       " '1056',\n",
       " '1079',\n",
       " '1195 - 1440',\n",
       " '1220',\n",
       " '1762',\n",
       " '1929',\n",
       " '858',\n",
       " '1445',\n",
       " '1342',\n",
       " '4428',\n",
       " '2026',\n",
       " '1148',\n",
       " '1441',\n",
       " '3606 - 5091',\n",
       " '1294',\n",
       " '1365',\n",
       " '1145 - 1340',\n",
       " '1330.74',\n",
       " '613 - 648',\n",
       " '1333',\n",
       " '11890',\n",
       " '2408',\n",
       " '952',\n",
       " '3729',\n",
       " '1909',\n",
       " '1797',\n",
       " '2292',\n",
       " '45',\n",
       " '2497',\n",
       " '2504',\n",
       " '1603',\n",
       " '1022',\n",
       " '1485',\n",
       " '1843',\n",
       " '1476',\n",
       " '693',\n",
       " '540 - 565',\n",
       " '730',\n",
       " '673',\n",
       " '2111',\n",
       " '3453',\n",
       " '1041',\n",
       " '1577',\n",
       " '1814',\n",
       " '1631',\n",
       " '1806',\n",
       " '3175',\n",
       " '1612',\n",
       " '1733.5',\n",
       " '1202',\n",
       " '2791',\n",
       " '167Sq. Meter',\n",
       " '1186',\n",
       " '1676',\n",
       " '1395',\n",
       " '1548',\n",
       " '142.61Sq. Meter',\n",
       " '1466',\n",
       " '1652.5',\n",
       " '2031',\n",
       " '3408',\n",
       " '4830',\n",
       " '1092',\n",
       " '1352',\n",
       " '3734',\n",
       " '410',\n",
       " '1230 - 1490',\n",
       " '620 - 934',\n",
       " '1386',\n",
       " '4446',\n",
       " '1402',\n",
       " '1112',\n",
       " '2650',\n",
       " '2360',\n",
       " '4041',\n",
       " '1880',\n",
       " '2197',\n",
       " '1417',\n",
       " '2830 - 2882',\n",
       " '2000 - 5634',\n",
       " '1083',\n",
       " '2437',\n",
       " '1523',\n",
       " '1627.86',\n",
       " '3179',\n",
       " '2105',\n",
       " '1987',\n",
       " '1625',\n",
       " '2826',\n",
       " '1505',\n",
       " '5666 - 5669',\n",
       " '2090',\n",
       " '4640',\n",
       " '1761',\n",
       " '1856',\n",
       " '2155',\n",
       " '1077',\n",
       " '2289',\n",
       " '1351',\n",
       " '1753',\n",
       " '3124',\n",
       " '610',\n",
       " '1185',\n",
       " '929 - 1078',\n",
       " '4050 - 4075',\n",
       " '4700',\n",
       " '2283',\n",
       " '1600',\n",
       " '941',\n",
       " '1482 - 1846',\n",
       " '1316',\n",
       " '2403',\n",
       " '2099',\n",
       " '1826',\n",
       " '4125Perch',\n",
       " '2495',\n",
       " '1553',\n",
       " '1853',\n",
       " '2444',\n",
       " '1544',\n",
       " '1846',\n",
       " '856',\n",
       " '1755',\n",
       " '1400 - 1421',\n",
       " '1',\n",
       " '3875',\n",
       " '2386',\n",
       " '2704',\n",
       " '808',\n",
       " '991',\n",
       " '420',\n",
       " '1754',\n",
       " '1198',\n",
       " '2232',\n",
       " '450',\n",
       " '1368',\n",
       " '2885',\n",
       " '1028',\n",
       " '620 - 933',\n",
       " '1922',\n",
       " '645 - 936',\n",
       " '630',\n",
       " '3520',\n",
       " '122Sq. Yards',\n",
       " '1232',\n",
       " '2108',\n",
       " '1103',\n",
       " '2501',\n",
       " '933',\n",
       " '1584.01',\n",
       " '4500 - 5540',\n",
       " '1035',\n",
       " '1078',\n",
       " '869',\n",
       " '1187',\n",
       " '2150',\n",
       " '1974 - 2171',\n",
       " '1170',\n",
       " '2900',\n",
       " '1568',\n",
       " '2872',\n",
       " '625',\n",
       " '2666',\n",
       " '1016',\n",
       " '1688',\n",
       " '1163',\n",
       " '1425',\n",
       " '520',\n",
       " '1777',\n",
       " '1650',\n",
       " '1090',\n",
       " '815',\n",
       " '665',\n",
       " '2035',\n",
       " '1209',\n",
       " '4144',\n",
       " '4235',\n",
       " '1365 - 1700',\n",
       " '2780',\n",
       " '2582',\n",
       " '2710 - 3360',\n",
       " '3785',\n",
       " '1925 - 2680',\n",
       " '3350',\n",
       " '1450 - 1950',\n",
       " '2236',\n",
       " '1907',\n",
       " '86.72Sq. Meter',\n",
       " '3262',\n",
       " '505',\n",
       " '1757',\n",
       " '1581',\n",
       " '2830',\n",
       " '12000',\n",
       " '1233',\n",
       " '3024',\n",
       " '960',\n",
       " '3005',\n",
       " '2925',\n",
       " '2689',\n",
       " '1032',\n",
       " '1516',\n",
       " '10000',\n",
       " '1093',\n",
       " '2650 - 2990',\n",
       " '1075',\n",
       " '1689',\n",
       " '1400',\n",
       " '735',\n",
       " '565',\n",
       " '1159',\n",
       " '1563',\n",
       " '2316',\n",
       " '1666',\n",
       " '1756',\n",
       " '1221',\n",
       " '1932.47',\n",
       " '2006.8',\n",
       " '3307 - 3464',\n",
       " '7514',\n",
       " '2240',\n",
       " '9000',\n",
       " '1007',\n",
       " '1230',\n",
       " '975',\n",
       " '2245',\n",
       " '624',\n",
       " '1195',\n",
       " '596 - 861',\n",
       " '1287',\n",
       " '1141',\n",
       " '671',\n",
       " '492',\n",
       " '1.25Acres',\n",
       " '5700',\n",
       " '3535',\n",
       " '2065',\n",
       " '10624',\n",
       " '1542.14',\n",
       " '4350',\n",
       " '1470',\n",
       " '3960',\n",
       " '7800',\n",
       " '315Sq. Yards',\n",
       " '1188',\n",
       " '3628',\n",
       " '5080',\n",
       " '2592',\n",
       " '38Guntha',\n",
       " '1580',\n",
       " '915',\n",
       " '2533',\n",
       " '1554',\n",
       " '1025',\n",
       " '3019',\n",
       " '1593',\n",
       " '1263',\n",
       " '973',\n",
       " '1392',\n",
       " '1800',\n",
       " '1133',\n",
       " '1835',\n",
       " '674',\n",
       " '1205.47',\n",
       " '3Cents',\n",
       " '3633',\n",
       " '1076',\n",
       " '45Sq. Yards',\n",
       " '2180',\n",
       " '2372',\n",
       " '1284',\n",
       " '4900',\n",
       " '1779',\n",
       " '300',\n",
       " '2200',\n",
       " '717',\n",
       " '1901',\n",
       " '1119',\n",
       " '1616',\n",
       " '527 - 639',\n",
       " '850',\n",
       " '1004',\n",
       " '2465',\n",
       " '1628',\n",
       " '1151',\n",
       " '2932',\n",
       " '2795',\n",
       " '1645',\n",
       " '2112.95',\n",
       " '2996',\n",
       " '1691',\n",
       " '1113.27',\n",
       " '772',\n",
       " '1309',\n",
       " '3210',\n",
       " '1113',\n",
       " '1790',\n",
       " '2515',\n",
       " '1373',\n",
       " '627',\n",
       " '1574Sq. Yards',\n",
       " '1489',\n",
       " '1564',\n",
       " '4260',\n",
       " '1052 - 1322',\n",
       " '3366',\n",
       " '2470 - 2790',\n",
       " '1424',\n",
       " '1659',\n",
       " '3420',\n",
       " '813',\n",
       " '1618 - 1929',\n",
       " '1605',\n",
       " '1108',\n",
       " '3876',\n",
       " '1607',\n",
       " '3800',\n",
       " '2325',\n",
       " '937',\n",
       " '1200 - 1470',\n",
       " '2041',\n",
       " '2170',\n",
       " '6000',\n",
       " '1282',\n",
       " '1146',\n",
       " '1255 - 1375',\n",
       " '2422',\n",
       " '2559',\n",
       " '2160',\n",
       " '1653',\n",
       " '2572',\n",
       " '1152',\n",
       " '1314',\n",
       " '1478',\n",
       " '1020',\n",
       " '1169',\n",
       " '1005.03 - 1252.49',\n",
       " '615 - 985',\n",
       " '1831',\n",
       " '1542',\n",
       " '5230',\n",
       " '1575',\n",
       " '1310',\n",
       " '770',\n",
       " '1818',\n",
       " '1153',\n",
       " '1079 - 1183',\n",
       " '1594',\n",
       " '1054',\n",
       " '5500',\n",
       " '1827',\n",
       " '845',\n",
       " '1970',\n",
       " '1225',\n",
       " '1308',\n",
       " '1767',\n",
       " '1217',\n",
       " '1175',\n",
       " '1346',\n",
       " '1824',\n",
       " '1160 - 1195',\n",
       " '1289',\n",
       " '1031',\n",
       " '1048',\n",
       " '3040Sq. Meter',\n",
       " '5924',\n",
       " '2462 - 2467',\n",
       " '581',\n",
       " '623',\n",
       " '1363',\n",
       " '1073',\n",
       " '2127',\n",
       " '5720',\n",
       " '2324',\n",
       " '3309',\n",
       " '1668',\n",
       " '78.03Sq. Meter',\n",
       " '2546',\n",
       " '1820',\n",
       " '4395',\n",
       " '1642',\n",
       " '1682',\n",
       " '2110',\n",
       " '2479.13',\n",
       " '920',\n",
       " '2195',\n",
       " '4100',\n",
       " '5400',\n",
       " '1430',\n",
       " '1268',\n",
       " '1739',\n",
       " '1121',\n",
       " '1253',\n",
       " '540 - 740',\n",
       " '1550',\n",
       " '2144.6',\n",
       " '1780',\n",
       " '1652',\n",
       " '3027',\n",
       " '1541',\n",
       " '2080',\n",
       " '1804',\n",
       " '4382',\n",
       " '3227',\n",
       " '5985',\n",
       " '944',\n",
       " '2282',\n",
       " '1255 - 1350',\n",
       " '697Sq. Meter',\n",
       " '994',\n",
       " '532',\n",
       " '2002',\n",
       " '1296',\n",
       " '996',\n",
       " '1213',\n",
       " '2401',\n",
       " '2107',\n",
       " '1681',\n",
       " '1522',\n",
       " '2162',\n",
       " '3126',\n",
       " '1047',\n",
       " '1288',\n",
       " '524',\n",
       " '1270 - 1275',\n",
       " '983',\n",
       " '1893',\n",
       " '1327',\n",
       " '4346',\n",
       " '1694',\n",
       " '2580 - 2591',\n",
       " '4278',\n",
       " '1996',\n",
       " '913',\n",
       " '1420',\n",
       " '550',\n",
       " '360',\n",
       " '706',\n",
       " '2019',\n",
       " '4356',\n",
       " '462',\n",
       " '2376',\n",
       " '1166',\n",
       " '1096',\n",
       " '2059',\n",
       " '2450',\n",
       " '1072',\n",
       " '4320',\n",
       " '1344',\n",
       " '2206',\n",
       " '4750',\n",
       " '5100',\n",
       " '1660',\n",
       " '2274.24',\n",
       " '1976',\n",
       " '1480',\n",
       " '2168',\n",
       " '1018',\n",
       " '1001',\n",
       " '1775',\n",
       " '2017',\n",
       " '3042',\n",
       " '924',\n",
       " '4250',\n",
       " '2079',\n",
       " '1459',\n",
       " '3100',\n",
       " '3012',\n",
       " '1061',\n",
       " '1672',\n",
       " '2950',\n",
       " '1019',\n",
       " '1713',\n",
       " '1105',\n",
       " '1879',\n",
       " '1Grounds',\n",
       " '3990',\n",
       " '909',\n",
       " '3554',\n",
       " '1338',\n",
       " '470',\n",
       " '4111',\n",
       " '595',\n",
       " '967',\n",
       " '2695 - 2940',\n",
       " '1252',\n",
       " '961',\n",
       " '1715',\n",
       " '1839',\n",
       " '3073',\n",
       " '2095',\n",
       " '540 - 670',\n",
       " '769',\n",
       " '1750 - 2640',\n",
       " '1219',\n",
       " '1546',\n",
       " '2378',\n",
       " '1825',\n",
       " '3670',\n",
       " '784',\n",
       " '989',\n",
       " '1471',\n",
       " '3436',\n",
       " '992',\n",
       " '1799',\n",
       " '1440 - 1884',\n",
       " '1332',\n",
       " '3526',\n",
       " '1197',\n",
       " '2735',\n",
       " '777.4',\n",
       " '1721',\n",
       " '1604',\n",
       " '2082',\n",
       " '970',\n",
       " '1397',\n",
       " '700 - 900',\n",
       " '1160',\n",
       " '1918',\n",
       " '1613',\n",
       " '914',\n",
       " '1247',\n",
       " '1695',\n",
       " '575',\n",
       " '1570',\n",
       " '2760',\n",
       " '2320',\n",
       " '4510',\n",
       " '1837',\n",
       " '1408',\n",
       " '3295',\n",
       " '5480',\n",
       " '1205',\n",
       " '1444',\n",
       " '2679',\n",
       " '1411',\n",
       " '1710',\n",
       " '2302',\n",
       " '588',\n",
       " '1179',\n",
       " '1109',\n",
       " '3067',\n",
       " '1571',\n",
       " '1215',\n",
       " '1147',\n",
       " '4166',\n",
       " '1525.84',\n",
       " '3480',\n",
       " '1390',\n",
       " '4201',\n",
       " '1840',\n",
       " '2247',\n",
       " '527',\n",
       " '1239',\n",
       " '1939',\n",
       " '1057',\n",
       " '1864',\n",
       " '1686',\n",
       " '1867',\n",
       " '1486',\n",
       " '3700',\n",
       " '635',\n",
       " '1716',\n",
       " '2087',\n",
       " '1510',\n",
       " '1139',\n",
       " '2249.81',\n",
       " '2540',\n",
       " '2367',\n",
       " '1707',\n",
       " '1453',\n",
       " '2100 - 2850',\n",
       " '2775',\n",
       " '1708',\n",
       " '1555',\n",
       " '704',\n",
       " '1651',\n",
       " '1881',\n",
       " '1704',\n",
       " '885',\n",
       " '1409',\n",
       " '1621',\n",
       " '1493',\n",
       " '1902',\n",
       " '1596',\n",
       " '3516',\n",
       " '2461',\n",
       " '1745',\n",
       " '1623.29',\n",
       " '276',\n",
       " '2293',\n",
       " '1488',\n",
       " '8321',\n",
       " '780',\n",
       " '2625',\n",
       " '2273',\n",
       " '1171',\n",
       " '1860',\n",
       " '1769',\n",
       " '10030',\n",
       " '1052',\n",
       " '706 - 716',\n",
       " ...}"
      ]
     },
     "execution_count": 29,
     "metadata": {},
     "output_type": "execute_result"
    }
   ],
   "source": [
    "adi"
   ]
  },
  {
   "cell_type": "code",
   "execution_count": 30,
   "id": "31e5cb26",
   "metadata": {},
   "outputs": [],
   "source": [
    "def convertRange(x):\n",
    "    temp = x.split(' - ')\n",
    "    if(len(temp) ==2):\n",
    "        return(float(temp[0]) + float(temp[1]))/2\n",
    "    try:\n",
    "        return(float(x))\n",
    "    except:\n",
    "        return(None)"
   ]
  },
  {
   "cell_type": "code",
   "execution_count": 31,
   "id": "d6fac5ae",
   "metadata": {},
   "outputs": [
    {
     "name": "stdout",
     "output_type": "stream",
     "text": [
      "747.0\n"
     ]
    }
   ],
   "source": [
    "print(convertRange('684 - 810'))"
   ]
  },
  {
   "cell_type": "code",
   "execution_count": 32,
   "id": "e5ef8b8a",
   "metadata": {},
   "outputs": [],
   "source": [
    "data['total_sqft'] = data['total_sqft'].apply(convertRange)"
   ]
  },
  {
   "cell_type": "code",
   "execution_count": 33,
   "id": "59123b3d",
   "metadata": {},
   "outputs": [
    {
     "data": {
      "text/html": [
       "<div>\n",
       "<style scoped>\n",
       "    .dataframe tbody tr th:only-of-type {\n",
       "        vertical-align: middle;\n",
       "    }\n",
       "\n",
       "    .dataframe tbody tr th {\n",
       "        vertical-align: top;\n",
       "    }\n",
       "\n",
       "    .dataframe thead th {\n",
       "        text-align: right;\n",
       "    }\n",
       "</style>\n",
       "<table border=\"1\" class=\"dataframe\">\n",
       "  <thead>\n",
       "    <tr style=\"text-align: right;\">\n",
       "      <th></th>\n",
       "      <th>location</th>\n",
       "      <th>size</th>\n",
       "      <th>total_sqft</th>\n",
       "      <th>bath</th>\n",
       "      <th>price</th>\n",
       "      <th>bhk</th>\n",
       "    </tr>\n",
       "  </thead>\n",
       "  <tbody>\n",
       "    <tr>\n",
       "      <th>0</th>\n",
       "      <td>Electronic City Phase II</td>\n",
       "      <td>2 BHK</td>\n",
       "      <td>1056.000</td>\n",
       "      <td>2.000</td>\n",
       "      <td>39.070</td>\n",
       "      <td>2</td>\n",
       "    </tr>\n",
       "    <tr>\n",
       "      <th>1</th>\n",
       "      <td>Chikka Tirupathi</td>\n",
       "      <td>4 Bedroom</td>\n",
       "      <td>2600.000</td>\n",
       "      <td>5.000</td>\n",
       "      <td>120.000</td>\n",
       "      <td>4</td>\n",
       "    </tr>\n",
       "    <tr>\n",
       "      <th>2</th>\n",
       "      <td>Uttarahalli</td>\n",
       "      <td>3 BHK</td>\n",
       "      <td>1440.000</td>\n",
       "      <td>2.000</td>\n",
       "      <td>62.000</td>\n",
       "      <td>3</td>\n",
       "    </tr>\n",
       "    <tr>\n",
       "      <th>3</th>\n",
       "      <td>Lingadheeranahalli</td>\n",
       "      <td>3 BHK</td>\n",
       "      <td>1521.000</td>\n",
       "      <td>3.000</td>\n",
       "      <td>95.000</td>\n",
       "      <td>3</td>\n",
       "    </tr>\n",
       "    <tr>\n",
       "      <th>4</th>\n",
       "      <td>Kothanur</td>\n",
       "      <td>2 BHK</td>\n",
       "      <td>1200.000</td>\n",
       "      <td>2.000</td>\n",
       "      <td>51.000</td>\n",
       "      <td>2</td>\n",
       "    </tr>\n",
       "  </tbody>\n",
       "</table>\n",
       "</div>"
      ],
      "text/plain": [
       "                   location       size  total_sqft  bath   price  bhk\n",
       "0  Electronic City Phase II      2 BHK    1056.000 2.000  39.070    2\n",
       "1          Chikka Tirupathi  4 Bedroom    2600.000 5.000 120.000    4\n",
       "2               Uttarahalli      3 BHK    1440.000 2.000  62.000    3\n",
       "3        Lingadheeranahalli      3 BHK    1521.000 3.000  95.000    3\n",
       "4                  Kothanur      2 BHK    1200.000 2.000  51.000    2"
      ]
     },
     "execution_count": 33,
     "metadata": {},
     "output_type": "execute_result"
    }
   ],
   "source": [
    "data.head()"
   ]
  },
  {
   "cell_type": "code",
   "execution_count": 34,
   "id": "39fbbf32",
   "metadata": {},
   "outputs": [
    {
     "data": {
      "text/plain": [
       "location       0\n",
       "size           0\n",
       "total_sqft    46\n",
       "bath           0\n",
       "price          0\n",
       "bhk            0\n",
       "dtype: int64"
      ]
     },
     "execution_count": 34,
     "metadata": {},
     "output_type": "execute_result"
    }
   ],
   "source": [
    "data.isna().sum()"
   ]
  },
  {
   "cell_type": "code",
   "execution_count": 35,
   "id": "2e54751b",
   "metadata": {},
   "outputs": [
    {
     "data": {
      "text/plain": [
       "1200.000    843\n",
       "1100.000    221\n",
       "1500.000    206\n",
       "2400.000    196\n",
       "600.000     180\n",
       "           ... \n",
       "3080.000      1\n",
       "787.000       1\n",
       "6613.000      1\n",
       "502.000       1\n",
       "4689.000      1\n",
       "Name: total_sqft, Length: 1999, dtype: int64"
      ]
     },
     "execution_count": 35,
     "metadata": {},
     "output_type": "execute_result"
    }
   ],
   "source": [
    "data['total_sqft'].value_counts()"
   ]
  },
  {
   "cell_type": "code",
   "execution_count": 36,
   "id": "217dac40",
   "metadata": {},
   "outputs": [],
   "source": [
    "data['total_sqft'] = data['total_sqft'].fillna(1200.0)"
   ]
  },
  {
   "cell_type": "code",
   "execution_count": 37,
   "id": "1f45eee7",
   "metadata": {},
   "outputs": [
    {
     "data": {
      "text/plain": [
       "location      0\n",
       "size          0\n",
       "total_sqft    0\n",
       "bath          0\n",
       "price         0\n",
       "bhk           0\n",
       "dtype: int64"
      ]
     },
     "execution_count": 37,
     "metadata": {},
     "output_type": "execute_result"
    }
   ],
   "source": [
    "data.isna().sum()"
   ]
  },
  {
   "cell_type": "markdown",
   "id": "b2ab0ad6",
   "metadata": {},
   "source": [
    "# Price Per Squere Feet"
   ]
  },
  {
   "cell_type": "code",
   "execution_count": 38,
   "id": "d9851f10",
   "metadata": {},
   "outputs": [],
   "source": [
    "data['price_per_sqft'] = data['price'] * 100000 / data['total_sqft']"
   ]
  },
  {
   "cell_type": "code",
   "execution_count": 39,
   "id": "23b824a3",
   "metadata": {},
   "outputs": [
    {
     "data": {
      "text/plain": [
       "0        3699.811\n",
       "1        4615.385\n",
       "2        4305.556\n",
       "3        6245.891\n",
       "4        4250.000\n",
       "           ...   \n",
       "13315    6689.835\n",
       "13316   11111.111\n",
       "13317    5258.545\n",
       "13318   10407.336\n",
       "13319    3090.909\n",
       "Name: price_per_sqft, Length: 13320, dtype: float64"
      ]
     },
     "execution_count": 39,
     "metadata": {},
     "output_type": "execute_result"
    }
   ],
   "source": [
    "data['price_per_sqft']"
   ]
  },
  {
   "cell_type": "code",
   "execution_count": 40,
   "id": "db45537e",
   "metadata": {},
   "outputs": [
    {
     "data": {
      "text/html": [
       "<div>\n",
       "<style scoped>\n",
       "    .dataframe tbody tr th:only-of-type {\n",
       "        vertical-align: middle;\n",
       "    }\n",
       "\n",
       "    .dataframe tbody tr th {\n",
       "        vertical-align: top;\n",
       "    }\n",
       "\n",
       "    .dataframe thead th {\n",
       "        text-align: right;\n",
       "    }\n",
       "</style>\n",
       "<table border=\"1\" class=\"dataframe\">\n",
       "  <thead>\n",
       "    <tr style=\"text-align: right;\">\n",
       "      <th></th>\n",
       "      <th>total_sqft</th>\n",
       "      <th>bath</th>\n",
       "      <th>price</th>\n",
       "      <th>bhk</th>\n",
       "      <th>price_per_sqft</th>\n",
       "    </tr>\n",
       "  </thead>\n",
       "  <tbody>\n",
       "    <tr>\n",
       "      <th>count</th>\n",
       "      <td>13320.000</td>\n",
       "      <td>13320.000</td>\n",
       "      <td>13320.000</td>\n",
       "      <td>13320.000</td>\n",
       "      <td>13320.000</td>\n",
       "    </tr>\n",
       "    <tr>\n",
       "      <th>mean</th>\n",
       "      <td>1558.385</td>\n",
       "      <td>2.689</td>\n",
       "      <td>112.566</td>\n",
       "      <td>2.803</td>\n",
       "      <td>7921.887</td>\n",
       "    </tr>\n",
       "    <tr>\n",
       "      <th>std</th>\n",
       "      <td>1236.445</td>\n",
       "      <td>1.339</td>\n",
       "      <td>148.972</td>\n",
       "      <td>1.294</td>\n",
       "      <td>106247.357</td>\n",
       "    </tr>\n",
       "    <tr>\n",
       "      <th>min</th>\n",
       "      <td>1.000</td>\n",
       "      <td>1.000</td>\n",
       "      <td>8.000</td>\n",
       "      <td>1.000</td>\n",
       "      <td>267.830</td>\n",
       "    </tr>\n",
       "    <tr>\n",
       "      <th>25%</th>\n",
       "      <td>1100.000</td>\n",
       "      <td>2.000</td>\n",
       "      <td>50.000</td>\n",
       "      <td>2.000</td>\n",
       "      <td>4266.667</td>\n",
       "    </tr>\n",
       "    <tr>\n",
       "      <th>50%</th>\n",
       "      <td>1275.000</td>\n",
       "      <td>2.000</td>\n",
       "      <td>72.000</td>\n",
       "      <td>3.000</td>\n",
       "      <td>5440.000</td>\n",
       "    </tr>\n",
       "    <tr>\n",
       "      <th>75%</th>\n",
       "      <td>1678.000</td>\n",
       "      <td>3.000</td>\n",
       "      <td>120.000</td>\n",
       "      <td>3.000</td>\n",
       "      <td>7331.341</td>\n",
       "    </tr>\n",
       "    <tr>\n",
       "      <th>max</th>\n",
       "      <td>52272.000</td>\n",
       "      <td>40.000</td>\n",
       "      <td>3600.000</td>\n",
       "      <td>43.000</td>\n",
       "      <td>12000000.000</td>\n",
       "    </tr>\n",
       "  </tbody>\n",
       "</table>\n",
       "</div>"
      ],
      "text/plain": [
       "       total_sqft      bath     price       bhk  price_per_sqft\n",
       "count   13320.000 13320.000 13320.000 13320.000       13320.000\n",
       "mean     1558.385     2.689   112.566     2.803        7921.887\n",
       "std      1236.445     1.339   148.972     1.294      106247.357\n",
       "min         1.000     1.000     8.000     1.000         267.830\n",
       "25%      1100.000     2.000    50.000     2.000        4266.667\n",
       "50%      1275.000     2.000    72.000     3.000        5440.000\n",
       "75%      1678.000     3.000   120.000     3.000        7331.341\n",
       "max     52272.000    40.000  3600.000    43.000    12000000.000"
      ]
     },
     "execution_count": 40,
     "metadata": {},
     "output_type": "execute_result"
    }
   ],
   "source": [
    "data.describe()"
   ]
  },
  {
   "cell_type": "code",
   "execution_count": 41,
   "id": "a37245a6",
   "metadata": {},
   "outputs": [
    {
     "data": {
      "text/html": [
       "<div>\n",
       "<style scoped>\n",
       "    .dataframe tbody tr th:only-of-type {\n",
       "        vertical-align: middle;\n",
       "    }\n",
       "\n",
       "    .dataframe tbody tr th {\n",
       "        vertical-align: top;\n",
       "    }\n",
       "\n",
       "    .dataframe thead th {\n",
       "        text-align: right;\n",
       "    }\n",
       "</style>\n",
       "<table border=\"1\" class=\"dataframe\">\n",
       "  <thead>\n",
       "    <tr style=\"text-align: right;\">\n",
       "      <th></th>\n",
       "      <th>location</th>\n",
       "      <th>size</th>\n",
       "      <th>total_sqft</th>\n",
       "      <th>bath</th>\n",
       "      <th>price</th>\n",
       "      <th>bhk</th>\n",
       "      <th>price_per_sqft</th>\n",
       "    </tr>\n",
       "  </thead>\n",
       "  <tbody>\n",
       "    <tr>\n",
       "      <th>0</th>\n",
       "      <td>Electronic City Phase II</td>\n",
       "      <td>2 BHK</td>\n",
       "      <td>1056.000</td>\n",
       "      <td>2.000</td>\n",
       "      <td>39.070</td>\n",
       "      <td>2</td>\n",
       "      <td>3699.811</td>\n",
       "    </tr>\n",
       "    <tr>\n",
       "      <th>1</th>\n",
       "      <td>Chikka Tirupathi</td>\n",
       "      <td>4 Bedroom</td>\n",
       "      <td>2600.000</td>\n",
       "      <td>5.000</td>\n",
       "      <td>120.000</td>\n",
       "      <td>4</td>\n",
       "      <td>4615.385</td>\n",
       "    </tr>\n",
       "    <tr>\n",
       "      <th>2</th>\n",
       "      <td>Uttarahalli</td>\n",
       "      <td>3 BHK</td>\n",
       "      <td>1440.000</td>\n",
       "      <td>2.000</td>\n",
       "      <td>62.000</td>\n",
       "      <td>3</td>\n",
       "      <td>4305.556</td>\n",
       "    </tr>\n",
       "    <tr>\n",
       "      <th>3</th>\n",
       "      <td>Lingadheeranahalli</td>\n",
       "      <td>3 BHK</td>\n",
       "      <td>1521.000</td>\n",
       "      <td>3.000</td>\n",
       "      <td>95.000</td>\n",
       "      <td>3</td>\n",
       "      <td>6245.891</td>\n",
       "    </tr>\n",
       "    <tr>\n",
       "      <th>4</th>\n",
       "      <td>Kothanur</td>\n",
       "      <td>2 BHK</td>\n",
       "      <td>1200.000</td>\n",
       "      <td>2.000</td>\n",
       "      <td>51.000</td>\n",
       "      <td>2</td>\n",
       "      <td>4250.000</td>\n",
       "    </tr>\n",
       "  </tbody>\n",
       "</table>\n",
       "</div>"
      ],
      "text/plain": [
       "                   location       size  total_sqft  bath   price  bhk  \\\n",
       "0  Electronic City Phase II      2 BHK    1056.000 2.000  39.070    2   \n",
       "1          Chikka Tirupathi  4 Bedroom    2600.000 5.000 120.000    4   \n",
       "2               Uttarahalli      3 BHK    1440.000 2.000  62.000    3   \n",
       "3        Lingadheeranahalli      3 BHK    1521.000 3.000  95.000    3   \n",
       "4                  Kothanur      2 BHK    1200.000 2.000  51.000    2   \n",
       "\n",
       "   price_per_sqft  \n",
       "0        3699.811  \n",
       "1        4615.385  \n",
       "2        4305.556  \n",
       "3        6245.891  \n",
       "4        4250.000  "
      ]
     },
     "execution_count": 41,
     "metadata": {},
     "output_type": "execute_result"
    }
   ],
   "source": [
    "data.head()"
   ]
  },
  {
   "cell_type": "code",
   "execution_count": 42,
   "id": "efd4fb98",
   "metadata": {},
   "outputs": [
    {
     "data": {
      "text/plain": [
       "Whitefield                        540\n",
       "Sarjapur  Road                    400\n",
       "Electronic City                   302\n",
       "Kanakpura Road                    273\n",
       "Thanisandra                       234\n",
       "                                 ... \n",
       "Bapuji Layout                       1\n",
       "1st Stage Radha Krishna Layout      1\n",
       "BEML Layout 5th stage               1\n",
       "singapura paradise                  1\n",
       "Abshot Layout                       1\n",
       "Name: location, Length: 1305, dtype: int64"
      ]
     },
     "execution_count": 42,
     "metadata": {},
     "output_type": "execute_result"
    }
   ],
   "source": [
    "data['location'].value_counts()"
   ]
  },
  {
   "cell_type": "code",
   "execution_count": 43,
   "id": "92c3aab7",
   "metadata": {},
   "outputs": [],
   "source": [
    "data['location'] = data['location'].apply(lambda x: x.strip())\n",
    "location_count = data['location'].value_counts()"
   ]
  },
  {
   "cell_type": "code",
   "execution_count": 44,
   "id": "7d93a526",
   "metadata": {},
   "outputs": [
    {
     "data": {
      "text/plain": [
       "Whitefield                        541\n",
       "Sarjapur  Road                    400\n",
       "Electronic City                   304\n",
       "Kanakpura Road                    273\n",
       "Thanisandra                       237\n",
       "                                 ... \n",
       "Bapuji Layout                       1\n",
       "1st Stage Radha Krishna Layout      1\n",
       "BEML Layout 5th stage               1\n",
       "singapura paradise                  1\n",
       "Abshot Layout                       1\n",
       "Name: location, Length: 1294, dtype: int64"
      ]
     },
     "execution_count": 44,
     "metadata": {},
     "output_type": "execute_result"
    }
   ],
   "source": [
    "location_count"
   ]
  },
  {
   "cell_type": "code",
   "execution_count": 45,
   "id": "2f560a5d",
   "metadata": {},
   "outputs": [
    {
     "data": {
      "text/plain": [
       "Dairy Circle                      10\n",
       "Nagappa Reddy Layout              10\n",
       "Basapura                          10\n",
       "1st Block Koramangala             10\n",
       "Sector 1 HSR Layout               10\n",
       "                                  ..\n",
       "Bapuji Layout                      1\n",
       "1st Stage Radha Krishna Layout     1\n",
       "BEML Layout 5th stage              1\n",
       "singapura paradise                 1\n",
       "Abshot Layout                      1\n",
       "Name: location, Length: 1053, dtype: int64"
      ]
     },
     "execution_count": 45,
     "metadata": {},
     "output_type": "execute_result"
    }
   ],
   "source": [
    "location_count_less_10 = location_count[location_count<=10]\n",
    "location_count_less_10"
   ]
  },
  {
   "cell_type": "code",
   "execution_count": 46,
   "id": "91b96eb0",
   "metadata": {},
   "outputs": [],
   "source": [
    "data['location'] = data['location'].apply(lambda x: 'other' if x in location_count_less_10 else x)"
   ]
  },
  {
   "cell_type": "code",
   "execution_count": 47,
   "id": "55a9b432",
   "metadata": {},
   "outputs": [
    {
     "data": {
      "text/plain": [
       "other                 2885\n",
       "Whitefield             541\n",
       "Sarjapur  Road         400\n",
       "Electronic City        304\n",
       "Kanakpura Road         273\n",
       "                      ... \n",
       "Nehru Nagar             11\n",
       "Banjara Layout          11\n",
       "LB Shastri Nagar        11\n",
       "Pattandur Agrahara      11\n",
       "Narayanapura            11\n",
       "Name: location, Length: 242, dtype: int64"
      ]
     },
     "execution_count": 47,
     "metadata": {},
     "output_type": "execute_result"
    }
   ],
   "source": [
    "data['location'].value_counts()"
   ]
  },
  {
   "cell_type": "markdown",
   "id": "911655fe",
   "metadata": {},
   "source": [
    "# Outlier detection and removal"
   ]
  },
  {
   "cell_type": "code",
   "execution_count": 48,
   "id": "4e68da72",
   "metadata": {},
   "outputs": [
    {
     "data": {
      "text/html": [
       "<div>\n",
       "<style scoped>\n",
       "    .dataframe tbody tr th:only-of-type {\n",
       "        vertical-align: middle;\n",
       "    }\n",
       "\n",
       "    .dataframe tbody tr th {\n",
       "        vertical-align: top;\n",
       "    }\n",
       "\n",
       "    .dataframe thead th {\n",
       "        text-align: right;\n",
       "    }\n",
       "</style>\n",
       "<table border=\"1\" class=\"dataframe\">\n",
       "  <thead>\n",
       "    <tr style=\"text-align: right;\">\n",
       "      <th></th>\n",
       "      <th>total_sqft</th>\n",
       "      <th>bath</th>\n",
       "      <th>price</th>\n",
       "      <th>bhk</th>\n",
       "      <th>price_per_sqft</th>\n",
       "    </tr>\n",
       "  </thead>\n",
       "  <tbody>\n",
       "    <tr>\n",
       "      <th>count</th>\n",
       "      <td>13320.000</td>\n",
       "      <td>13320.000</td>\n",
       "      <td>13320.000</td>\n",
       "      <td>13320.000</td>\n",
       "      <td>13320.000</td>\n",
       "    </tr>\n",
       "    <tr>\n",
       "      <th>mean</th>\n",
       "      <td>1558.385</td>\n",
       "      <td>2.689</td>\n",
       "      <td>112.566</td>\n",
       "      <td>2.803</td>\n",
       "      <td>7921.887</td>\n",
       "    </tr>\n",
       "    <tr>\n",
       "      <th>std</th>\n",
       "      <td>1236.445</td>\n",
       "      <td>1.339</td>\n",
       "      <td>148.972</td>\n",
       "      <td>1.294</td>\n",
       "      <td>106247.357</td>\n",
       "    </tr>\n",
       "    <tr>\n",
       "      <th>min</th>\n",
       "      <td>1.000</td>\n",
       "      <td>1.000</td>\n",
       "      <td>8.000</td>\n",
       "      <td>1.000</td>\n",
       "      <td>267.830</td>\n",
       "    </tr>\n",
       "    <tr>\n",
       "      <th>25%</th>\n",
       "      <td>1100.000</td>\n",
       "      <td>2.000</td>\n",
       "      <td>50.000</td>\n",
       "      <td>2.000</td>\n",
       "      <td>4266.667</td>\n",
       "    </tr>\n",
       "    <tr>\n",
       "      <th>50%</th>\n",
       "      <td>1275.000</td>\n",
       "      <td>2.000</td>\n",
       "      <td>72.000</td>\n",
       "      <td>3.000</td>\n",
       "      <td>5440.000</td>\n",
       "    </tr>\n",
       "    <tr>\n",
       "      <th>75%</th>\n",
       "      <td>1678.000</td>\n",
       "      <td>3.000</td>\n",
       "      <td>120.000</td>\n",
       "      <td>3.000</td>\n",
       "      <td>7331.341</td>\n",
       "    </tr>\n",
       "    <tr>\n",
       "      <th>max</th>\n",
       "      <td>52272.000</td>\n",
       "      <td>40.000</td>\n",
       "      <td>3600.000</td>\n",
       "      <td>43.000</td>\n",
       "      <td>12000000.000</td>\n",
       "    </tr>\n",
       "  </tbody>\n",
       "</table>\n",
       "</div>"
      ],
      "text/plain": [
       "       total_sqft      bath     price       bhk  price_per_sqft\n",
       "count   13320.000 13320.000 13320.000 13320.000       13320.000\n",
       "mean     1558.385     2.689   112.566     2.803        7921.887\n",
       "std      1236.445     1.339   148.972     1.294      106247.357\n",
       "min         1.000     1.000     8.000     1.000         267.830\n",
       "25%      1100.000     2.000    50.000     2.000        4266.667\n",
       "50%      1275.000     2.000    72.000     3.000        5440.000\n",
       "75%      1678.000     3.000   120.000     3.000        7331.341\n",
       "max     52272.000    40.000  3600.000    43.000    12000000.000"
      ]
     },
     "execution_count": 48,
     "metadata": {},
     "output_type": "execute_result"
    }
   ],
   "source": [
    "data.describe()"
   ]
  },
  {
   "cell_type": "markdown",
   "id": "53201051",
   "metadata": {},
   "source": [
    "# How much sqft in 1BHK"
   ]
  },
  {
   "cell_type": "code",
   "execution_count": 49,
   "id": "298c841f",
   "metadata": {},
   "outputs": [
    {
     "data": {
      "text/plain": [
       "0        528.000\n",
       "1        650.000\n",
       "2        480.000\n",
       "3        507.000\n",
       "4        600.000\n",
       "          ...   \n",
       "13315    690.600\n",
       "13316    900.000\n",
       "13317    570.500\n",
       "13318   1172.250\n",
       "13319    550.000\n",
       "Length: 13320, dtype: float64"
      ]
     },
     "execution_count": 49,
     "metadata": {},
     "output_type": "execute_result"
    }
   ],
   "source": [
    "data['total_sqft']/data['bhk']"
   ]
  },
  {
   "cell_type": "code",
   "execution_count": 50,
   "id": "b73f0c92",
   "metadata": {},
   "outputs": [
    {
     "data": {
      "text/plain": [
       "count   13320.000\n",
       "mean      575.002\n",
       "std       388.066\n",
       "min         0.250\n",
       "25%       473.000\n",
       "50%       552.500\n",
       "75%       625.000\n",
       "max     26136.000\n",
       "dtype: float64"
      ]
     },
     "execution_count": 50,
     "metadata": {},
     "output_type": "execute_result"
    }
   ],
   "source": [
    "(data['total_sqft']/data['bhk']).describe()"
   ]
  },
  {
   "cell_type": "code",
   "execution_count": 51,
   "id": "cc20470d",
   "metadata": {},
   "outputs": [
    {
     "data": {
      "text/html": [
       "<div>\n",
       "<style scoped>\n",
       "    .dataframe tbody tr th:only-of-type {\n",
       "        vertical-align: middle;\n",
       "    }\n",
       "\n",
       "    .dataframe tbody tr th {\n",
       "        vertical-align: top;\n",
       "    }\n",
       "\n",
       "    .dataframe thead th {\n",
       "        text-align: right;\n",
       "    }\n",
       "</style>\n",
       "<table border=\"1\" class=\"dataframe\">\n",
       "  <thead>\n",
       "    <tr style=\"text-align: right;\">\n",
       "      <th></th>\n",
       "      <th>total_sqft</th>\n",
       "      <th>bath</th>\n",
       "      <th>price</th>\n",
       "      <th>bhk</th>\n",
       "      <th>price_per_sqft</th>\n",
       "    </tr>\n",
       "  </thead>\n",
       "  <tbody>\n",
       "    <tr>\n",
       "      <th>count</th>\n",
       "      <td>12568.000</td>\n",
       "      <td>12568.000</td>\n",
       "      <td>12568.000</td>\n",
       "      <td>12568.000</td>\n",
       "      <td>12568.000</td>\n",
       "    </tr>\n",
       "    <tr>\n",
       "      <th>mean</th>\n",
       "      <td>1593.372</td>\n",
       "      <td>2.559</td>\n",
       "      <td>111.410</td>\n",
       "      <td>2.650</td>\n",
       "      <td>6315.243</td>\n",
       "    </tr>\n",
       "    <tr>\n",
       "      <th>std</th>\n",
       "      <td>1259.549</td>\n",
       "      <td>1.078</td>\n",
       "      <td>151.917</td>\n",
       "      <td>0.977</td>\n",
       "      <td>4178.335</td>\n",
       "    </tr>\n",
       "    <tr>\n",
       "      <th>min</th>\n",
       "      <td>300.000</td>\n",
       "      <td>1.000</td>\n",
       "      <td>8.440</td>\n",
       "      <td>1.000</td>\n",
       "      <td>267.830</td>\n",
       "    </tr>\n",
       "    <tr>\n",
       "      <th>25%</th>\n",
       "      <td>1117.750</td>\n",
       "      <td>2.000</td>\n",
       "      <td>49.000</td>\n",
       "      <td>2.000</td>\n",
       "      <td>4210.280</td>\n",
       "    </tr>\n",
       "    <tr>\n",
       "      <th>50%</th>\n",
       "      <td>1300.000</td>\n",
       "      <td>2.000</td>\n",
       "      <td>70.000</td>\n",
       "      <td>3.000</td>\n",
       "      <td>5295.545</td>\n",
       "    </tr>\n",
       "    <tr>\n",
       "      <th>75%</th>\n",
       "      <td>1700.000</td>\n",
       "      <td>3.000</td>\n",
       "      <td>115.000</td>\n",
       "      <td>3.000</td>\n",
       "      <td>6927.325</td>\n",
       "    </tr>\n",
       "    <tr>\n",
       "      <th>max</th>\n",
       "      <td>52272.000</td>\n",
       "      <td>16.000</td>\n",
       "      <td>3600.000</td>\n",
       "      <td>16.000</td>\n",
       "      <td>176470.588</td>\n",
       "    </tr>\n",
       "  </tbody>\n",
       "</table>\n",
       "</div>"
      ],
      "text/plain": [
       "       total_sqft      bath     price       bhk  price_per_sqft\n",
       "count   12568.000 12568.000 12568.000 12568.000       12568.000\n",
       "mean     1593.372     2.559   111.410     2.650        6315.243\n",
       "std      1259.549     1.078   151.917     0.977        4178.335\n",
       "min       300.000     1.000     8.440     1.000         267.830\n",
       "25%      1117.750     2.000    49.000     2.000        4210.280\n",
       "50%      1300.000     2.000    70.000     3.000        5295.545\n",
       "75%      1700.000     3.000   115.000     3.000        6927.325\n",
       "max     52272.000    16.000  3600.000    16.000      176470.588"
      ]
     },
     "execution_count": 51,
     "metadata": {},
     "output_type": "execute_result"
    }
   ],
   "source": [
    "data = data[((data['total_sqft']/data['bhk']) >= 300)]\n",
    "data.describe()"
   ]
  },
  {
   "cell_type": "code",
   "execution_count": 52,
   "id": "9b670890",
   "metadata": {},
   "outputs": [
    {
     "data": {
      "text/plain": [
       "(12568, 7)"
      ]
     },
     "execution_count": 52,
     "metadata": {},
     "output_type": "execute_result"
    }
   ],
   "source": [
    "data.shape"
   ]
  },
  {
   "cell_type": "code",
   "execution_count": 53,
   "id": "560f0802",
   "metadata": {},
   "outputs": [
    {
     "data": {
      "text/plain": [
       "count    12568.000\n",
       "mean      6315.243\n",
       "std       4178.335\n",
       "min        267.830\n",
       "25%       4210.280\n",
       "50%       5295.545\n",
       "75%       6927.325\n",
       "max     176470.588\n",
       "Name: price_per_sqft, dtype: float64"
      ]
     },
     "execution_count": 53,
     "metadata": {},
     "output_type": "execute_result"
    }
   ],
   "source": [
    "data.price_per_sqft.describe()"
   ]
  },
  {
   "cell_type": "markdown",
   "id": "3f208891",
   "metadata": {},
   "source": [
    "# Here max: 176470.588 is an outlier"
   ]
  },
  {
   "cell_type": "code",
   "execution_count": 54,
   "id": "06a4115c",
   "metadata": {},
   "outputs": [
    {
     "data": {
      "text/html": [
       "<div>\n",
       "<style scoped>\n",
       "    .dataframe tbody tr th:only-of-type {\n",
       "        vertical-align: middle;\n",
       "    }\n",
       "\n",
       "    .dataframe tbody tr th {\n",
       "        vertical-align: top;\n",
       "    }\n",
       "\n",
       "    .dataframe thead th {\n",
       "        text-align: right;\n",
       "    }\n",
       "</style>\n",
       "<table border=\"1\" class=\"dataframe\">\n",
       "  <thead>\n",
       "    <tr style=\"text-align: right;\">\n",
       "      <th></th>\n",
       "      <th>total_sqft</th>\n",
       "      <th>bath</th>\n",
       "      <th>price</th>\n",
       "      <th>bhk</th>\n",
       "      <th>price_per_sqft</th>\n",
       "    </tr>\n",
       "  </thead>\n",
       "  <tbody>\n",
       "    <tr>\n",
       "      <th>count</th>\n",
       "      <td>10355.000</td>\n",
       "      <td>10355.000</td>\n",
       "      <td>10355.000</td>\n",
       "      <td>10355.000</td>\n",
       "      <td>10355.000</td>\n",
       "    </tr>\n",
       "    <tr>\n",
       "      <th>mean</th>\n",
       "      <td>1508.453</td>\n",
       "      <td>2.472</td>\n",
       "      <td>91.383</td>\n",
       "      <td>2.575</td>\n",
       "      <td>5665.821</td>\n",
       "    </tr>\n",
       "    <tr>\n",
       "      <th>std</th>\n",
       "      <td>880.450</td>\n",
       "      <td>0.979</td>\n",
       "      <td>86.366</td>\n",
       "      <td>0.898</td>\n",
       "      <td>2274.169</td>\n",
       "    </tr>\n",
       "    <tr>\n",
       "      <th>min</th>\n",
       "      <td>300.000</td>\n",
       "      <td>1.000</td>\n",
       "      <td>10.000</td>\n",
       "      <td>1.000</td>\n",
       "      <td>1250.000</td>\n",
       "    </tr>\n",
       "    <tr>\n",
       "      <th>25%</th>\n",
       "      <td>1110.000</td>\n",
       "      <td>2.000</td>\n",
       "      <td>49.000</td>\n",
       "      <td>2.000</td>\n",
       "      <td>4244.830</td>\n",
       "    </tr>\n",
       "    <tr>\n",
       "      <th>50%</th>\n",
       "      <td>1285.000</td>\n",
       "      <td>2.000</td>\n",
       "      <td>67.000</td>\n",
       "      <td>2.000</td>\n",
       "      <td>5179.283</td>\n",
       "    </tr>\n",
       "    <tr>\n",
       "      <th>75%</th>\n",
       "      <td>1650.000</td>\n",
       "      <td>3.000</td>\n",
       "      <td>100.000</td>\n",
       "      <td>3.000</td>\n",
       "      <td>6445.733</td>\n",
       "    </tr>\n",
       "    <tr>\n",
       "      <th>max</th>\n",
       "      <td>30400.000</td>\n",
       "      <td>16.000</td>\n",
       "      <td>2200.000</td>\n",
       "      <td>16.000</td>\n",
       "      <td>24509.804</td>\n",
       "    </tr>\n",
       "  </tbody>\n",
       "</table>\n",
       "</div>"
      ],
      "text/plain": [
       "       total_sqft      bath     price       bhk  price_per_sqft\n",
       "count   10355.000 10355.000 10355.000 10355.000       10355.000\n",
       "mean     1508.453     2.472    91.383     2.575        5665.821\n",
       "std       880.450     0.979    86.366     0.898        2274.169\n",
       "min       300.000     1.000    10.000     1.000        1250.000\n",
       "25%      1110.000     2.000    49.000     2.000        4244.830\n",
       "50%      1285.000     2.000    67.000     2.000        5179.283\n",
       "75%      1650.000     3.000   100.000     3.000        6445.733\n",
       "max     30400.000    16.000  2200.000    16.000       24509.804"
      ]
     },
     "execution_count": 54,
     "metadata": {},
     "output_type": "execute_result"
    }
   ],
   "source": [
    "def remove_outliers_sqft(df):\n",
    "    df_output = pd.DataFrame()\n",
    "    for key,subdf in df.groupby('location'):\n",
    "        m = np.mean(subdf.price_per_sqft)\n",
    "        \n",
    "        st = np.std(subdf.price_per_sqft)\n",
    "        \n",
    "        gen_df = subdf[(subdf.price_per_sqft > (m-st)) & (subdf.price_per_sqft <= (m+st))]\n",
    "        df_output = pd.concat([df_output,gen_df],ignore_index = True)\n",
    "    return df_output\n",
    "data = remove_outliers_sqft(data)\n",
    "data.describe()"
   ]
  },
  {
   "cell_type": "code",
   "execution_count": 55,
   "id": "a8bc5c01",
   "metadata": {},
   "outputs": [],
   "source": [
    "def bhk_outlier_remover(df):\n",
    "    exclude_indices = np.array([])\n",
    "    for location, location_df in df.groupby('location'):\n",
    "        bhk_stats = {}\n",
    "        for bhk, bhk_df in location_df.groupby('bhk'):\n",
    "            bhk_stats[bhk] = {\n",
    "                'mean': np.mean(bhk_df.price_per_sqft),\n",
    "                'std': np.std(bhk_df.price_per_sqft),\n",
    "                'count': bhk_df.shape[0]\n",
    "            }\n",
    "        for bhk, bhk_df in location_df.groupby('bhk'):\n",
    "            stats = bhk_stats.get(bhk-1)\n",
    "            if stats and stats['count']>5:\n",
    "                exclude_indices = np.append(exclude_indices, bhk_df[bhk_df.price_per_sqft<(stats['mean'])].index.values)\n",
    "    return df.drop(exclude_indices, axis='index')"
   ]
  },
  {
   "cell_type": "code",
   "execution_count": 56,
   "id": "8b8546f6",
   "metadata": {},
   "outputs": [],
   "source": [
    "data = bhk_outlier_remover(data)"
   ]
  },
  {
   "cell_type": "code",
   "execution_count": 57,
   "id": "94898e6d",
   "metadata": {},
   "outputs": [
    {
     "data": {
      "text/plain": [
       "(7386, 7)"
      ]
     },
     "execution_count": 57,
     "metadata": {},
     "output_type": "execute_result"
    }
   ],
   "source": [
    "data.shape"
   ]
  },
  {
   "cell_type": "code",
   "execution_count": 58,
   "id": "f2547354",
   "metadata": {},
   "outputs": [
    {
     "data": {
      "text/html": [
       "<div>\n",
       "<style scoped>\n",
       "    .dataframe tbody tr th:only-of-type {\n",
       "        vertical-align: middle;\n",
       "    }\n",
       "\n",
       "    .dataframe tbody tr th {\n",
       "        vertical-align: top;\n",
       "    }\n",
       "\n",
       "    .dataframe thead th {\n",
       "        text-align: right;\n",
       "    }\n",
       "</style>\n",
       "<table border=\"1\" class=\"dataframe\">\n",
       "  <thead>\n",
       "    <tr style=\"text-align: right;\">\n",
       "      <th></th>\n",
       "      <th>location</th>\n",
       "      <th>size</th>\n",
       "      <th>total_sqft</th>\n",
       "      <th>bath</th>\n",
       "      <th>price</th>\n",
       "      <th>bhk</th>\n",
       "      <th>price_per_sqft</th>\n",
       "    </tr>\n",
       "  </thead>\n",
       "  <tbody>\n",
       "    <tr>\n",
       "      <th>0</th>\n",
       "      <td>1st Block Jayanagar</td>\n",
       "      <td>4 BHK</td>\n",
       "      <td>2850.000</td>\n",
       "      <td>4.000</td>\n",
       "      <td>428.000</td>\n",
       "      <td>4</td>\n",
       "      <td>15017.544</td>\n",
       "    </tr>\n",
       "    <tr>\n",
       "      <th>1</th>\n",
       "      <td>1st Block Jayanagar</td>\n",
       "      <td>3 BHK</td>\n",
       "      <td>1630.000</td>\n",
       "      <td>3.000</td>\n",
       "      <td>194.000</td>\n",
       "      <td>3</td>\n",
       "      <td>11901.840</td>\n",
       "    </tr>\n",
       "    <tr>\n",
       "      <th>2</th>\n",
       "      <td>1st Block Jayanagar</td>\n",
       "      <td>3 BHK</td>\n",
       "      <td>1875.000</td>\n",
       "      <td>2.000</td>\n",
       "      <td>235.000</td>\n",
       "      <td>3</td>\n",
       "      <td>12533.333</td>\n",
       "    </tr>\n",
       "    <tr>\n",
       "      <th>3</th>\n",
       "      <td>1st Block Jayanagar</td>\n",
       "      <td>3 BHK</td>\n",
       "      <td>1200.000</td>\n",
       "      <td>2.000</td>\n",
       "      <td>130.000</td>\n",
       "      <td>3</td>\n",
       "      <td>10833.333</td>\n",
       "    </tr>\n",
       "    <tr>\n",
       "      <th>4</th>\n",
       "      <td>1st Block Jayanagar</td>\n",
       "      <td>2 BHK</td>\n",
       "      <td>1235.000</td>\n",
       "      <td>2.000</td>\n",
       "      <td>148.000</td>\n",
       "      <td>2</td>\n",
       "      <td>11983.806</td>\n",
       "    </tr>\n",
       "    <tr>\n",
       "      <th>...</th>\n",
       "      <td>...</td>\n",
       "      <td>...</td>\n",
       "      <td>...</td>\n",
       "      <td>...</td>\n",
       "      <td>...</td>\n",
       "      <td>...</td>\n",
       "      <td>...</td>\n",
       "    </tr>\n",
       "    <tr>\n",
       "      <th>10346</th>\n",
       "      <td>other</td>\n",
       "      <td>2 BHK</td>\n",
       "      <td>1200.000</td>\n",
       "      <td>2.000</td>\n",
       "      <td>70.000</td>\n",
       "      <td>2</td>\n",
       "      <td>5833.333</td>\n",
       "    </tr>\n",
       "    <tr>\n",
       "      <th>10347</th>\n",
       "      <td>other</td>\n",
       "      <td>1 BHK</td>\n",
       "      <td>1800.000</td>\n",
       "      <td>1.000</td>\n",
       "      <td>200.000</td>\n",
       "      <td>1</td>\n",
       "      <td>11111.111</td>\n",
       "    </tr>\n",
       "    <tr>\n",
       "      <th>10350</th>\n",
       "      <td>other</td>\n",
       "      <td>2 BHK</td>\n",
       "      <td>1353.000</td>\n",
       "      <td>2.000</td>\n",
       "      <td>110.000</td>\n",
       "      <td>2</td>\n",
       "      <td>8130.081</td>\n",
       "    </tr>\n",
       "    <tr>\n",
       "      <th>10351</th>\n",
       "      <td>other</td>\n",
       "      <td>1 Bedroom</td>\n",
       "      <td>812.000</td>\n",
       "      <td>1.000</td>\n",
       "      <td>26.000</td>\n",
       "      <td>1</td>\n",
       "      <td>3201.970</td>\n",
       "    </tr>\n",
       "    <tr>\n",
       "      <th>10354</th>\n",
       "      <td>other</td>\n",
       "      <td>4 BHK</td>\n",
       "      <td>3600.000</td>\n",
       "      <td>5.000</td>\n",
       "      <td>400.000</td>\n",
       "      <td>4</td>\n",
       "      <td>11111.111</td>\n",
       "    </tr>\n",
       "  </tbody>\n",
       "</table>\n",
       "<p>7386 rows × 7 columns</p>\n",
       "</div>"
      ],
      "text/plain": [
       "                  location       size  total_sqft  bath   price  bhk  \\\n",
       "0      1st Block Jayanagar      4 BHK    2850.000 4.000 428.000    4   \n",
       "1      1st Block Jayanagar      3 BHK    1630.000 3.000 194.000    3   \n",
       "2      1st Block Jayanagar      3 BHK    1875.000 2.000 235.000    3   \n",
       "3      1st Block Jayanagar      3 BHK    1200.000 2.000 130.000    3   \n",
       "4      1st Block Jayanagar      2 BHK    1235.000 2.000 148.000    2   \n",
       "...                    ...        ...         ...   ...     ...  ...   \n",
       "10346                other      2 BHK    1200.000 2.000  70.000    2   \n",
       "10347                other      1 BHK    1800.000 1.000 200.000    1   \n",
       "10350                other      2 BHK    1353.000 2.000 110.000    2   \n",
       "10351                other  1 Bedroom     812.000 1.000  26.000    1   \n",
       "10354                other      4 BHK    3600.000 5.000 400.000    4   \n",
       "\n",
       "       price_per_sqft  \n",
       "0           15017.544  \n",
       "1           11901.840  \n",
       "2           12533.333  \n",
       "3           10833.333  \n",
       "4           11983.806  \n",
       "...               ...  \n",
       "10346        5833.333  \n",
       "10347       11111.111  \n",
       "10350        8130.081  \n",
       "10351        3201.970  \n",
       "10354       11111.111  \n",
       "\n",
       "[7386 rows x 7 columns]"
      ]
     },
     "execution_count": 58,
     "metadata": {},
     "output_type": "execute_result"
    }
   ],
   "source": [
    "data"
   ]
  },
  {
   "cell_type": "code",
   "execution_count": 59,
   "id": "dce0b3f6",
   "metadata": {},
   "outputs": [],
   "source": [
    "data.drop(columns=['size','price_per_sqft'], inplace=True)"
   ]
  },
  {
   "cell_type": "markdown",
   "id": "fd719096",
   "metadata": {},
   "source": [
    "# Cleaned Data"
   ]
  },
  {
   "cell_type": "code",
   "execution_count": 60,
   "id": "fd6b25c5",
   "metadata": {},
   "outputs": [
    {
     "data": {
      "text/html": [
       "<div>\n",
       "<style scoped>\n",
       "    .dataframe tbody tr th:only-of-type {\n",
       "        vertical-align: middle;\n",
       "    }\n",
       "\n",
       "    .dataframe tbody tr th {\n",
       "        vertical-align: top;\n",
       "    }\n",
       "\n",
       "    .dataframe thead th {\n",
       "        text-align: right;\n",
       "    }\n",
       "</style>\n",
       "<table border=\"1\" class=\"dataframe\">\n",
       "  <thead>\n",
       "    <tr style=\"text-align: right;\">\n",
       "      <th></th>\n",
       "      <th>location</th>\n",
       "      <th>total_sqft</th>\n",
       "      <th>bath</th>\n",
       "      <th>price</th>\n",
       "      <th>bhk</th>\n",
       "    </tr>\n",
       "  </thead>\n",
       "  <tbody>\n",
       "    <tr>\n",
       "      <th>0</th>\n",
       "      <td>1st Block Jayanagar</td>\n",
       "      <td>2850.000</td>\n",
       "      <td>4.000</td>\n",
       "      <td>428.000</td>\n",
       "      <td>4</td>\n",
       "    </tr>\n",
       "    <tr>\n",
       "      <th>1</th>\n",
       "      <td>1st Block Jayanagar</td>\n",
       "      <td>1630.000</td>\n",
       "      <td>3.000</td>\n",
       "      <td>194.000</td>\n",
       "      <td>3</td>\n",
       "    </tr>\n",
       "    <tr>\n",
       "      <th>2</th>\n",
       "      <td>1st Block Jayanagar</td>\n",
       "      <td>1875.000</td>\n",
       "      <td>2.000</td>\n",
       "      <td>235.000</td>\n",
       "      <td>3</td>\n",
       "    </tr>\n",
       "    <tr>\n",
       "      <th>3</th>\n",
       "      <td>1st Block Jayanagar</td>\n",
       "      <td>1200.000</td>\n",
       "      <td>2.000</td>\n",
       "      <td>130.000</td>\n",
       "      <td>3</td>\n",
       "    </tr>\n",
       "    <tr>\n",
       "      <th>4</th>\n",
       "      <td>1st Block Jayanagar</td>\n",
       "      <td>1235.000</td>\n",
       "      <td>2.000</td>\n",
       "      <td>148.000</td>\n",
       "      <td>2</td>\n",
       "    </tr>\n",
       "  </tbody>\n",
       "</table>\n",
       "</div>"
      ],
      "text/plain": [
       "              location  total_sqft  bath   price  bhk\n",
       "0  1st Block Jayanagar    2850.000 4.000 428.000    4\n",
       "1  1st Block Jayanagar    1630.000 3.000 194.000    3\n",
       "2  1st Block Jayanagar    1875.000 2.000 235.000    3\n",
       "3  1st Block Jayanagar    1200.000 2.000 130.000    3\n",
       "4  1st Block Jayanagar    1235.000 2.000 148.000    2"
      ]
     },
     "execution_count": 60,
     "metadata": {},
     "output_type": "execute_result"
    }
   ],
   "source": [
    "data.head()"
   ]
  },
  {
   "cell_type": "code",
   "execution_count": 61,
   "id": "1efc1eee",
   "metadata": {},
   "outputs": [],
   "source": [
    "data.to_csv(\"Cleaned_data.csv\",index=False)"
   ]
  },
  {
   "cell_type": "code",
   "execution_count": 62,
   "id": "f30c39e3",
   "metadata": {},
   "outputs": [],
   "source": [
    "temp = pd.read_csv(\"Cleaned_data.csv\")"
   ]
  },
  {
   "cell_type": "code",
   "execution_count": 63,
   "id": "f981b49c",
   "metadata": {},
   "outputs": [
    {
     "data": {
      "text/html": [
       "<div>\n",
       "<style scoped>\n",
       "    .dataframe tbody tr th:only-of-type {\n",
       "        vertical-align: middle;\n",
       "    }\n",
       "\n",
       "    .dataframe tbody tr th {\n",
       "        vertical-align: top;\n",
       "    }\n",
       "\n",
       "    .dataframe thead th {\n",
       "        text-align: right;\n",
       "    }\n",
       "</style>\n",
       "<table border=\"1\" class=\"dataframe\">\n",
       "  <thead>\n",
       "    <tr style=\"text-align: right;\">\n",
       "      <th></th>\n",
       "      <th>location</th>\n",
       "      <th>total_sqft</th>\n",
       "      <th>bath</th>\n",
       "      <th>price</th>\n",
       "      <th>bhk</th>\n",
       "    </tr>\n",
       "  </thead>\n",
       "  <tbody>\n",
       "    <tr>\n",
       "      <th>0</th>\n",
       "      <td>1st Block Jayanagar</td>\n",
       "      <td>2850.000</td>\n",
       "      <td>4.000</td>\n",
       "      <td>428.000</td>\n",
       "      <td>4</td>\n",
       "    </tr>\n",
       "    <tr>\n",
       "      <th>1</th>\n",
       "      <td>1st Block Jayanagar</td>\n",
       "      <td>1630.000</td>\n",
       "      <td>3.000</td>\n",
       "      <td>194.000</td>\n",
       "      <td>3</td>\n",
       "    </tr>\n",
       "    <tr>\n",
       "      <th>2</th>\n",
       "      <td>1st Block Jayanagar</td>\n",
       "      <td>1875.000</td>\n",
       "      <td>2.000</td>\n",
       "      <td>235.000</td>\n",
       "      <td>3</td>\n",
       "    </tr>\n",
       "    <tr>\n",
       "      <th>3</th>\n",
       "      <td>1st Block Jayanagar</td>\n",
       "      <td>1200.000</td>\n",
       "      <td>2.000</td>\n",
       "      <td>130.000</td>\n",
       "      <td>3</td>\n",
       "    </tr>\n",
       "    <tr>\n",
       "      <th>4</th>\n",
       "      <td>1st Block Jayanagar</td>\n",
       "      <td>1235.000</td>\n",
       "      <td>2.000</td>\n",
       "      <td>148.000</td>\n",
       "      <td>2</td>\n",
       "    </tr>\n",
       "  </tbody>\n",
       "</table>\n",
       "</div>"
      ],
      "text/plain": [
       "              location  total_sqft  bath   price  bhk\n",
       "0  1st Block Jayanagar    2850.000 4.000 428.000    4\n",
       "1  1st Block Jayanagar    1630.000 3.000 194.000    3\n",
       "2  1st Block Jayanagar    1875.000 2.000 235.000    3\n",
       "3  1st Block Jayanagar    1200.000 2.000 130.000    3\n",
       "4  1st Block Jayanagar    1235.000 2.000 148.000    2"
      ]
     },
     "execution_count": 63,
     "metadata": {},
     "output_type": "execute_result"
    }
   ],
   "source": [
    "temp.head()"
   ]
  },
  {
   "cell_type": "code",
   "execution_count": 64,
   "id": "55f2834e",
   "metadata": {},
   "outputs": [],
   "source": [
    "X = data.drop(columns=['price'])\n",
    "y = data['price']"
   ]
  },
  {
   "cell_type": "code",
   "execution_count": 65,
   "id": "177c092d",
   "metadata": {},
   "outputs": [],
   "source": [
    "from sklearn.model_selection import train_test_split\n",
    "from sklearn.linear_model import LinearRegression,Lasso,Ridge\n",
    "from sklearn.preprocessing import OneHotEncoder, StandardScaler\n",
    "from sklearn.compose import make_column_transformer\n",
    "from sklearn.pipeline import make_pipeline\n",
    "from sklearn.metrics import r2_score\n",
    "from sklearn.metrics import mean_absolute_error as mae"
   ]
  },
  {
   "cell_type": "code",
   "execution_count": 66,
   "id": "7064c830",
   "metadata": {},
   "outputs": [],
   "source": [
    "X_train, X_test, y_train, y_test = train_test_split(X,y, test_size=0.2, random_state=0)"
   ]
  },
  {
   "cell_type": "code",
   "execution_count": 67,
   "id": "ac65bb63",
   "metadata": {},
   "outputs": [
    {
     "name": "stdout",
     "output_type": "stream",
     "text": [
      "(5908, 4)\n",
      "(1478, 4)\n"
     ]
    }
   ],
   "source": [
    "print(X_train.shape)\n",
    "print(X_test.shape)"
   ]
  },
  {
   "cell_type": "markdown",
   "id": "12b11863",
   "metadata": {},
   "source": [
    "# Applying Linear Regression"
   ]
  },
  {
   "cell_type": "code",
   "execution_count": 68,
   "id": "3f076f73",
   "metadata": {},
   "outputs": [],
   "source": [
    "column_trans = make_column_transformer((OneHotEncoder(sparse=False), ['location']),remainder='passthrough')"
   ]
  },
  {
   "cell_type": "code",
   "execution_count": 69,
   "id": "8633f514",
   "metadata": {},
   "outputs": [],
   "source": [
    "scaler = StandardScaler()"
   ]
  },
  {
   "cell_type": "code",
   "execution_count": 70,
   "id": "bc42c729",
   "metadata": {},
   "outputs": [],
   "source": [
    "lr = LinearRegression(normalize=True)"
   ]
  },
  {
   "cell_type": "code",
   "execution_count": 71,
   "id": "20956ca5",
   "metadata": {},
   "outputs": [],
   "source": [
    "pipe = make_pipeline(column_trans,scaler,lr)"
   ]
  },
  {
   "cell_type": "code",
   "execution_count": 72,
   "id": "1930759a",
   "metadata": {},
   "outputs": [
    {
     "name": "stderr",
     "output_type": "stream",
     "text": [
      "C:\\Users\\Debodyuti\\AppData\\Roaming\\Python\\Python310\\site-packages\\sklearn\\linear_model\\_base.py:141: FutureWarning: 'normalize' was deprecated in version 1.0 and will be removed in 1.2.\n",
      "If you wish to scale the data, use Pipeline with a StandardScaler in a preprocessing stage. To reproduce the previous behavior:\n",
      "\n",
      "from sklearn.pipeline import make_pipeline\n",
      "\n",
      "model = make_pipeline(StandardScaler(with_mean=False), LinearRegression())\n",
      "\n",
      "If you wish to pass a sample_weight parameter, you need to pass it as a fit parameter to each step of the pipeline as follows:\n",
      "\n",
      "kwargs = {s[0] + '__sample_weight': sample_weight for s in model.steps}\n",
      "model.fit(X, y, **kwargs)\n",
      "\n",
      "\n",
      "  warnings.warn(\n"
     ]
    },
    {
     "data": {
      "text/plain": [
       "Pipeline(steps=[('columntransformer',\n",
       "                 ColumnTransformer(remainder='passthrough',\n",
       "                                   transformers=[('onehotencoder',\n",
       "                                                  OneHotEncoder(sparse=False),\n",
       "                                                  ['location'])])),\n",
       "                ('standardscaler', StandardScaler()),\n",
       "                ('linearregression', LinearRegression(normalize=True))])"
      ]
     },
     "execution_count": 72,
     "metadata": {},
     "output_type": "execute_result"
    }
   ],
   "source": [
    "pipe.fit(X_train,y_train)"
   ]
  },
  {
   "cell_type": "code",
   "execution_count": 73,
   "id": "0260bb75",
   "metadata": {},
   "outputs": [],
   "source": [
    "y_pred_lr = pipe.predict(X_test)"
   ]
  },
  {
   "cell_type": "code",
   "execution_count": 74,
   "id": "f6ec20c3",
   "metadata": {},
   "outputs": [
    {
     "data": {
      "text/plain": [
       "array([ 49.96174732,  79.60591729, 111.53914976, ...,  77.68758726,\n",
       "        88.11727476,  30.42622979])"
      ]
     },
     "execution_count": 74,
     "metadata": {},
     "output_type": "execute_result"
    }
   ],
   "source": [
    "y_pred_lr"
   ]
  },
  {
   "cell_type": "markdown",
   "id": "402a112d",
   "metadata": {},
   "source": [
    "### Accurecy in Linear Regression"
   ]
  },
  {
   "cell_type": "code",
   "execution_count": 75,
   "id": "48998bdb",
   "metadata": {},
   "outputs": [
    {
     "data": {
      "text/plain": [
       "85.96018191647245"
      ]
     },
     "execution_count": 75,
     "metadata": {},
     "output_type": "execute_result"
    }
   ],
   "source": [
    "r2_score(y_test, y_pred_lr) * 100"
   ]
  },
  {
   "cell_type": "markdown",
   "id": "a7342a79",
   "metadata": {},
   "source": [
    "# Applying Lasso Regression"
   ]
  },
  {
   "cell_type": "code",
   "execution_count": 76,
   "id": "ff729689",
   "metadata": {},
   "outputs": [],
   "source": [
    "lasso = Lasso()"
   ]
  },
  {
   "cell_type": "code",
   "execution_count": 77,
   "id": "62e3b890",
   "metadata": {},
   "outputs": [],
   "source": [
    "pipe = make_pipeline(column_trans,scaler, lasso)"
   ]
  },
  {
   "cell_type": "code",
   "execution_count": 78,
   "id": "44c28489",
   "metadata": {},
   "outputs": [
    {
     "data": {
      "text/plain": [
       "Pipeline(steps=[('columntransformer',\n",
       "                 ColumnTransformer(remainder='passthrough',\n",
       "                                   transformers=[('onehotencoder',\n",
       "                                                  OneHotEncoder(sparse=False),\n",
       "                                                  ['location'])])),\n",
       "                ('standardscaler', StandardScaler()), ('lasso', Lasso())])"
      ]
     },
     "execution_count": 78,
     "metadata": {},
     "output_type": "execute_result"
    }
   ],
   "source": [
    "pipe.fit(X_train,y_train)"
   ]
  },
  {
   "cell_type": "code",
   "execution_count": 79,
   "id": "eca53b5f",
   "metadata": {},
   "outputs": [],
   "source": [
    "y_pred_lasso = pipe.predict(X_test)"
   ]
  },
  {
   "cell_type": "markdown",
   "id": "d8ce85df",
   "metadata": {},
   "source": [
    "### Accurecy In Lasso Regression"
   ]
  },
  {
   "cell_type": "code",
   "execution_count": 80,
   "id": "0227f6d2",
   "metadata": {},
   "outputs": [
    {
     "data": {
      "text/plain": [
       "0.8513167824878014"
      ]
     },
     "execution_count": 80,
     "metadata": {},
     "output_type": "execute_result"
    }
   ],
   "source": [
    "r2_score(y_test, y_pred_lasso)"
   ]
  },
  {
   "cell_type": "markdown",
   "id": "7bd99c3a",
   "metadata": {},
   "source": [
    "# Applying Ridge Regression"
   ]
  },
  {
   "cell_type": "code",
   "execution_count": 81,
   "id": "a73c1396",
   "metadata": {},
   "outputs": [],
   "source": [
    "ridge = Ridge()"
   ]
  },
  {
   "cell_type": "code",
   "execution_count": 82,
   "id": "2ec89dc1",
   "metadata": {},
   "outputs": [],
   "source": [
    "pipe = make_pipeline(column_trans,scaler, ridge)"
   ]
  },
  {
   "cell_type": "code",
   "execution_count": 83,
   "id": "1b40292d",
   "metadata": {},
   "outputs": [
    {
     "data": {
      "text/plain": [
       "Pipeline(steps=[('columntransformer',\n",
       "                 ColumnTransformer(remainder='passthrough',\n",
       "                                   transformers=[('onehotencoder',\n",
       "                                                  OneHotEncoder(sparse=False),\n",
       "                                                  ['location'])])),\n",
       "                ('standardscaler', StandardScaler()), ('ridge', Ridge())])"
      ]
     },
     "execution_count": 83,
     "metadata": {},
     "output_type": "execute_result"
    }
   ],
   "source": [
    "pipe.fit(X_train,y_train)"
   ]
  },
  {
   "cell_type": "code",
   "execution_count": 84,
   "id": "1b23e80b",
   "metadata": {},
   "outputs": [],
   "source": [
    "y_pred_ridge = pipe.predict(X_test)"
   ]
  },
  {
   "cell_type": "markdown",
   "id": "d9c5756a",
   "metadata": {},
   "source": [
    "### Accurecy In Ridge Regression"
   ]
  },
  {
   "cell_type": "code",
   "execution_count": 85,
   "id": "de1677c0",
   "metadata": {},
   "outputs": [
    {
     "data": {
      "text/plain": [
       "0.8600346617412613"
      ]
     },
     "execution_count": 85,
     "metadata": {},
     "output_type": "execute_result"
    }
   ],
   "source": [
    "r2_score(y_test, y_pred_ridge)"
   ]
  },
  {
   "cell_type": "markdown",
   "id": "12f6c024",
   "metadata": {},
   "source": [
    "# Calculate Accuracy using R2 Score"
   ]
  },
  {
   "cell_type": "code",
   "execution_count": 86,
   "id": "c50cf539",
   "metadata": {},
   "outputs": [
    {
     "name": "stdout",
     "output_type": "stream",
     "text": [
      "Linear Regression Accurec:  85.96018191647245\n",
      "Lasso Regression Accurec:  85.13167824878013\n",
      "Ridge Regression Accurec:  86.00346617412613\n"
     ]
    }
   ],
   "source": [
    "print(\"Linear Regression Accurec: \",r2_score(y_test, y_pred_lr)*100)\n",
    "print(\"Lasso Regression Accurec: \",r2_score(y_test, y_pred_lasso)*100)\n",
    "print(\"Ridge Regression Accurec: \",r2_score(y_test, y_pred_ridge)*100)"
   ]
  },
  {
   "cell_type": "code",
   "execution_count": 87,
   "id": "85753c49",
   "metadata": {},
   "outputs": [],
   "source": [
    "import pickle"
   ]
  },
  {
   "cell_type": "code",
   "execution_count": 88,
   "id": "f51603e3",
   "metadata": {},
   "outputs": [],
   "source": [
    "pickle.dump(pipe, open('RidgeModel.pkl','wb'))"
   ]
  },
  {
   "cell_type": "markdown",
   "id": "2676f573",
   "metadata": {},
   "source": [
    "# Calculate RMSE, MSE, MAE for Linear Regression:"
   ]
  },
  {
   "cell_type": "code",
   "execution_count": 89,
   "id": "a8eb29bb",
   "metadata": {},
   "outputs": [
    {
     "name": "stdout",
     "output_type": "stream",
     "text": [
      "Root Mean Square Error Linear Regression:  29.811644404980576\n",
      "Mean Square Error Linear Regression:  888.7341421290098\n",
      "Mean Absoluate Error Linear Regression:  17.580642199569432\n"
     ]
    }
   ],
   "source": [
    "MSE_lr = np.square(np.subtract(y_test,y_pred_lr)).mean() \n",
    "RMSE_lr = math.sqrt(MSE_lr)\n",
    "MAE_lr = mae(y_test, y_pred_lr)\n",
    "print(\"Root Mean Square Error Linear Regression: \",RMSE_lr)\n",
    "print(\"Mean Square Error Linear Regression: \",MSE_lr)\n",
    "print(\"Mean Absoluate Error Linear Regression: \",MAE_lr)"
   ]
  },
  {
   "cell_type": "markdown",
   "id": "255430ba",
   "metadata": {},
   "source": [
    "# Calculate RMSE, MSE, MAE for Lasso Regression:"
   ]
  },
  {
   "cell_type": "code",
   "execution_count": 90,
   "id": "a40b2d90",
   "metadata": {},
   "outputs": [
    {
     "name": "stdout",
     "output_type": "stream",
     "text": [
      "Root Mean Square Error Lasso Regression:  30.678644530571923\n",
      "Mean Square Error Lasso Regression:  941.1792302331907\n",
      "Mean Absoluate Error Lasso Regression:  18.62892141973301\n"
     ]
    }
   ],
   "source": [
    "MSE_lo = np.square(np.subtract(y_test,y_pred_lasso)).mean() \n",
    "RMSE_lo = math.sqrt(MSE_lo)\n",
    "MAE_lo = mae(y_test, y_pred_lasso)\n",
    "print(\"Root Mean Square Error Lasso Regression: \",RMSE_lo)\n",
    "print(\"Mean Square Error Lasso Regression: \",MSE_lo)\n",
    "print(\"Mean Absoluate Error Lasso Regression: \",MAE_lo)"
   ]
  },
  {
   "cell_type": "markdown",
   "id": "274a5d80",
   "metadata": {},
   "source": [
    "# Calculate RMSE, MSE, MAE for Ridge Regression:"
   ]
  },
  {
   "cell_type": "code",
   "execution_count": 91,
   "id": "34087049",
   "metadata": {},
   "outputs": [
    {
     "name": "stdout",
     "output_type": "stream",
     "text": [
      "Root Mean Square Error Ridge Regression:  29.76565481413314\n",
      "Mean Square Error Ridge Regression:  885.9942065141273\n",
      "Mean Absoluate Error Ridge Regression:  17.55052195835769\n"
     ]
    }
   ],
   "source": [
    "MSE_re = np.square(np.subtract(y_test,y_pred_ridge)).mean() \n",
    "RMSE_re = math.sqrt(MSE_re)\n",
    "MAE_re = mae(y_test, y_pred_ridge)\n",
    "print(\"Root Mean Square Error Ridge Regression: \",RMSE_re)\n",
    "print(\"Mean Square Error Ridge Regression: \",MSE_re)\n",
    "print(\"Mean Absoluate Error Ridge Regression: \",MAE_re)"
   ]
  },
  {
   "cell_type": "code",
   "execution_count": 92,
   "id": "411f4ba8",
   "metadata": {},
   "outputs": [],
   "source": [
    "import seaborn as sns\n",
    "import matplotlib.pyplot as plt"
   ]
  },
  {
   "cell_type": "code",
   "execution_count": 93,
   "id": "6bac26d6",
   "metadata": {},
   "outputs": [
    {
     "data": {
      "image/png": "[encoded data removed]",
      "text/plain": [
       "<Figure size 864x576 with 1 Axes>"
      ]
     },
     "metadata": {
      "needs_background": "light"
     },
     "output_type": "display_data"
    }
   ],
   "source": [
    "plt.figure(figsize=(12,8))\n",
    "sns.barplot(x=['Linear Regression', 'Lasso Regression', 'Ridge Regression'], y=[RMSE_lr, RMSE_lo, RMSE_re])\n",
    "plt.title(\"Models' RMSE Scores\", size=15)\n",
    "plt.xticks(rotation=30, size=12)\n",
    "plt.show()"
   ]
  },
  {
   "cell_type": "code",
   "execution_count": 94,
   "id": "372749e9",
   "metadata": {},
   "outputs": [
    {
     "data": {
      "image/png": "[encoded data removed]",
      "text/plain": [
       "<Figure size 864x576 with 1 Axes>"
      ]
     },
     "metadata": {
      "needs_background": "light"
     },
     "output_type": "display_data"
    }
   ],
   "source": [
    "plt.figure(figsize=(12,8))\n",
    "sns.barplot(x=['Linear Regression', 'Lasso Regression', 'Ridge Regression'], y=[MSE_lr, MSE_lo, MSE_re])\n",
    "plt.title(\"Models' MSE Scores\", size=15)\n",
    "plt.xticks(rotation=30, size=12)\n",
    "plt.show()"
   ]
  },
  {
   "cell_type": "code",
   "execution_count": 95,
   "id": "fb0c888d",
   "metadata": {},
   "outputs": [
    {
     "data": {
      "image/png": "[encoded data removed]",
      "text/plain": [
       "<Figure size 864x576 with 1 Axes>"
      ]
     },
     "metadata": {
      "needs_background": "light"
     },
     "output_type": "display_data"
    }
   ],
   "source": [
    "plt.figure(figsize=(12,8))\n",
    "sns.barplot(x=['Linear Regression', 'Lasso Regression', 'Ridge Regression'], y=[MAE_lr, MAE_lo, MAE_re])\n",
    "plt.title(\"Models' MAE Scores\", size=15)\n",
    "plt.xticks(rotation=30, size=12)\n",
    "plt.show()"
   ]
  },
  {
   "cell_type": "code",
   "execution_count": null,
   "id": "38033169",
   "metadata": {},
   "outputs": [],
   "source": []
  }
 ],
 "metadata": {
  "kernelspec": {
   "display_name": "Python 3 (ipykernel)",
   "language": "python",
   "name": "python3"
  },
  "language_info": {
   "codemirror_mode": {
    "name": "ipython",
    "version": 3
   },
   "file_extension": ".py",
   "mimetype": "text/x-python",
   "name": "python",
   "nbconvert_exporter": "python",
   "pygments_lexer": "ipython3",
   "version": "3.10.2"
  }
 },
 "nbformat": 4,
 "nbformat_minor": 5
}
